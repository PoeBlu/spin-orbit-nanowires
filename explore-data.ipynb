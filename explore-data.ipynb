{
 "cells": [
  {
   "cell_type": "code",
   "execution_count": null,
   "metadata": {},
   "outputs": [],
   "source": [
    "import warnings\n",
    "warnings.filterwarnings(\"ignore\")  # because holoviews 1.7 prints a lot of warnings\n",
    "import kwant\n",
    "import numpy\n",
    "import numpy as np\n",
    "import pandas as pd\n",
    "from glob import glob\n",
    "import holoviews as hv\n",
    "import funcs\n",
    "hv.notebook_extension()\n",
    "%opts Image {+axiswise} [colorbar=True aspect='square'] (cmap='viridis')\n",
    "\n",
    "def add_direction(df):\n",
    "    xyz = funcs.spherical_coords(1, df['theta'], df['phi'])\n",
    "    if np.any(np.count_nonzero(xyz, axis=1) > 1):\n",
    "        raise Exception('Cannot determine direction. Only fields in purley B_x, B_y, or B_z can be used.')\n",
    "    df['direction'] = np.argmax(xyz, axis=1)\n",
    "    return df"
   ]
  },
  {
   "cell_type": "markdown",
   "metadata": {},
   "source": [
    "![](https://upload.wikimedia.org/wikipedia/commons/thumb/4/4f/3D_Spherical.svg/208px-3D_Spherical.svg.png)"
   ]
  },
  {
   "cell_type": "markdown",
   "metadata": {},
   "source": [
    "# Breaking reflection symmetry with changing the angle of the SC and with different potentials.\n",
    "\n",
    "_Note that there are not combinations for $g=0$ and `orbital=False`!_\n",
    "\n",
    "`angle` is the angle of the middle superconductor wrt the $z$-axis.\n"
   ]
  },
  {
   "cell_type": "code",
   "execution_count": null,
   "metadata": {
    "collapsed": true
   },
   "outputs": [],
   "source": [
    "df = pd.read_hdf('data/conductance_with_different_potentials_and_SC_angles.hdf')\n",
    "df = add_direction(df)\n",
    "params = ['direction', 'V_barrier', 'g', 'alpha', 'orbital', 'mu', 'angle', 'V']\n",
    "kdims = ['V_bias', 'B']\n",
    "ds = hv.Dataset(df.set_index(params + kdims).to_xarray())"
   ]
  },
  {
   "cell_type": "markdown",
   "metadata": {},
   "source": [
    "###  Plot the potential"
   ]
  },
  {
   "cell_type": "code",
   "execution_count": null,
   "metadata": {
    "scrolled": false
   },
   "outputs": [],
   "source": [
    "def get_cross_section(syst, pos, direction):\n",
    "    coord = np.array([s.pos for s in syst.sites if s.pos[direction] == pos])\n",
    "    cross_section = np.delete(coord, direction, 1)\n",
    "    return cross_section\n",
    "\n",
    "def plot_potential(angle, V, mu):\n",
    "    syst_pars = dict(a=10, onsite_disorder=False,\n",
    "                     L=200, coverage_angle=135, r1=50, r2=70, shape='circle',\n",
    "                     with_leads=True, with_shell=True, A_correction=True)\n",
    "    syst_pars['angle'] = angle\n",
    "\n",
    "    syst = funcs.make_3d_wire(**syst_pars)\n",
    "\n",
    "    V = eval(V)\n",
    "    x = 20\n",
    "    potential = np.array([V(*s.pos) for s in syst.sites if s.pos[0]==x])\n",
    "    xy = get_cross_section(syst, x, 0)\n",
    "    return hv.Image(np.rot90(kwant.plotter.mask_interpolate(xy, mu - potential, oversampling=1)[0]),\n",
    "                   kdims=['$y$', '$z$'], vdims=[r'$\\mu$'])\n",
    "\n",
    "kdims = [hv.Dimension('angle', values=df.angle.unique()), \n",
    "         hv.Dimension('$V$', values=df.V.unique()),\n",
    "         hv.Dimension(r'$\\mu$', values=df.mu.unique())]\n",
    "\n",
    "hv.DynamicMap(plot_potential, kdims=kdims)"
   ]
  },
  {
   "cell_type": "code",
   "execution_count": null,
   "metadata": {},
   "outputs": [],
   "source": [
    "%%opts Layout [hspace=0.7]\n",
    "%%output size=200\n",
    "(ds.to(hv.Image, kdims=kdims, vdims=['G_01'], groupby=params, dynamic=True) +\n",
    " ds.to(hv.Image, kdims=kdims, vdims=['G_Andreev'], groupby=params, dynamic=True)).cols(1)"
   ]
  },
  {
   "cell_type": "markdown",
   "metadata": {},
   "source": [
    "# Varying $\\mu$ (_has_ $\\vec{A}$ correction or no correction for the supercurrent in SC)\n",
    "_Note that there are not combinations for $g=0$ and `orbital=False`!_"
   ]
  },
  {
   "cell_type": "code",
   "execution_count": null,
   "metadata": {
    "collapsed": true
   },
   "outputs": [],
   "source": [
    "df = pd.read_hdf('data/conductance_sc_correction.hdf')\n",
    "df = add_direction(df)\n",
    "params = ['theta', 'phi', 'V_barrier', 'g', 'alpha', 'orbital', 'mu', 'A_correction']\n",
    "kdims = ['V_bias', 'B']\n",
    "ds = hv.Dataset(df.set_index(params + kdims).to_xarray())"
   ]
  },
  {
   "cell_type": "code",
   "execution_count": null,
   "metadata": {
    "collapsed": true
   },
   "outputs": [],
   "source": [
    "%%opts Layout [hspace=0.7]\n",
    "%%output size=200\n",
    "(ds.to(hv.Image, kdims=kdims, vdims=['G_01'], groupby=params, dynamic=True) +\n",
    " ds.to(hv.Image, kdims=kdims, vdims=['G_Andreev'], groupby=params, dynamic=True)).cols(1)"
   ]
  },
  {
   "cell_type": "markdown",
   "metadata": {},
   "source": [
    "# Varying $\\mu$ (has no $\\vec{A}$ correction for supercurrent in SC)"
   ]
  },
  {
   "cell_type": "code",
   "execution_count": null,
   "metadata": {
    "collapsed": true
   },
   "outputs": [],
   "source": [
    "df = pd.read_hdf('data/conductance_vary_mu.hdf')\n",
    "df['B'], df['theta'], df['phi'] = funcs.cartesian_coords(df.B_x, df.B_y, df.B_z)\n",
    "params = ['alpha', 'g', 'orbital', 'V_barrier', 'mu', 'theta', 'phi']\n",
    "kdims = ['V_bias', 'B']\n",
    "ds = hv.Dataset(df.set_index(params + kdims).to_xarray())"
   ]
  },
  {
   "cell_type": "code",
   "execution_count": null,
   "metadata": {
    "collapsed": true
   },
   "outputs": [],
   "source": [
    "%%opts Layout [hspace=0.7]\n",
    "%%output size=200\n",
    "(ds.to(hv.Image, kdims=kdims, vdims=['G_01'], groupby=params, dynamic=True) +\n",
    " ds.to(hv.Image, kdims=kdims, vdims=['G_Andreev'], groupby=params, dynamic=True)).cols(1)"
   ]
  },
  {
   "cell_type": "markdown",
   "metadata": {},
   "source": [
    "# First data, $\\vec{B}$ in different directions\n"
   ]
  },
  {
   "cell_type": "code",
   "execution_count": null,
   "metadata": {
    "collapsed": true
   },
   "outputs": [],
   "source": [
    "df = pd.read_hdf('data/conductance.hdf')\n",
    "df['B'], df['theta'], df['phi'] = funcs.cartesian_coords(df.B_x, df.B_y, df.B_z)"
   ]
  },
  {
   "cell_type": "code",
   "execution_count": null,
   "metadata": {
    "collapsed": true
   },
   "outputs": [],
   "source": [
    "params = ['alpha', 'g', 'orbital', 'V_barrier', 'mu', 'theta', 'phi']\n",
    "kdims = ['V_bias', 'B']\n",
    "ds = hv.Dataset(df.set_index(params + kdims).to_xarray())"
   ]
  },
  {
   "cell_type": "code",
   "execution_count": null,
   "metadata": {
    "collapsed": true
   },
   "outputs": [],
   "source": [
    "%%opts Layout [hspace=0.7]\n",
    "%%output size=200\n",
    "(ds.to(hv.Image, kdims=kdims, vdims=['G_01'], groupby=params, dynamic=True) +\n",
    " ds.to(hv.Image, kdims=kdims, vdims=['G_Andreev'], groupby=params, dynamic=True)).cols(1)"
   ]
  }
 ],
 "metadata": {
  "anaconda-cloud": {},
  "kernelspec": {
   "display_name": "Python [conda env:dev]",
   "language": "python",
   "name": "conda-env-dev-py"
  },
  "language_info": {
   "codemirror_mode": {
    "name": "ipython",
    "version": 3
   },
   "file_extension": ".py",
   "mimetype": "text/x-python",
   "name": "python",
   "nbconvert_exporter": "python",
   "pygments_lexer": "ipython3",
   "version": "3.6.1"
  }
 },
 "nbformat": 4,
 "nbformat_minor": 2
}
