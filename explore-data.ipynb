{
 "cells": [
  {
   "cell_type": "code",
   "execution_count": null,
   "metadata": {},
   "outputs": [],
   "source": [
    "import numpy\n",
    "import numpy as np\n",
    "import pandas as pd\n",
    "from glob import glob\n",
    "import holoviews as hv\n",
    "import funcs\n",
    "hv.notebook_extension()\n",
    "%opts Image {+axiswise} [colorbar=True aspect='square'] (cmap='viridis')"
   ]
  },
  {
   "cell_type": "markdown",
   "metadata": {},
   "source": [
    "![](https://upload.wikimedia.org/wikipedia/commons/thumb/4/4f/3D_Spherical.svg/208px-3D_Spherical.svg.png)"
   ]
  },
  {
   "cell_type": "markdown",
   "metadata": {},
   "source": [
    "# Breaking reflection symmetry with changing the angle of the SC and with different potentials."
   ]
  },
  {
   "cell_type": "code",
   "execution_count": null,
   "metadata": {},
   "outputs": [],
   "source": [
    "df = pd.read_hdf('data/conductance_with_different_potentials_and_SC_angles.hdf')\n",
    "params = ['theta', 'phi', 'V_barrier', 'g', 'alpha', 'orbital', 'mu', 'angle', 'V']\n",
    "kdims = ['V_bias', 'B']\n",
    "ds = hv.Dataset(df.set_index(params + kdims).to_xarray())"
   ]
  },
  {
   "cell_type": "code",
   "execution_count": null,
   "metadata": {},
   "outputs": [],
   "source": [
    "%%opts Layout [hspace=0.7]\n",
    "%%output size=200\n",
    "(ds.to(hv.Image, kdims=kdims, vdims=['G_01'], groupby=params, dynamic=True) +\n",
    " ds.to(hv.Image, kdims=kdims, vdims=['G_Andreev'], groupby=params, dynamic=True)).cols(1)"
   ]
  },
  {
   "cell_type": "markdown",
   "metadata": {},
   "source": [
    "# Varying $\\mu$ (_has_ $\\vec{A}$ correction for supercurrent in SC)"
   ]
  },
  {
   "cell_type": "code",
   "execution_count": null,
   "metadata": {},
   "outputs": [],
   "source": [
    "df = pd.read_hdf('data/conductance_sc_correction.hdf')\n",
    "params = ['theta', 'phi', 'V_barrier', 'g', 'alpha', 'orbital', 'mu', 'A_correction']\n",
    "kdims = ['V_bias', 'B']\n",
    "ds = hv.Dataset(df.set_index(params + kdims).to_xarray())"
   ]
  },
  {
   "cell_type": "code",
   "execution_count": null,
   "metadata": {},
   "outputs": [],
   "source": [
    "%%opts Layout [hspace=0.7]\n",
    "%%output size=200\n",
    "(ds.to(hv.Image, kdims=kdims, vdims=['G_01'], groupby=params, dynamic=True) +\n",
    " ds.to(hv.Image, kdims=kdims, vdims=['G_Andreev'], groupby=params, dynamic=True)).cols(1)"
   ]
  },
  {
   "cell_type": "markdown",
   "metadata": {},
   "source": [
    "# Varying $\\mu$ (has no $\\vec{A}$ correction for supercurrent in SC)"
   ]
  },
  {
   "cell_type": "code",
   "execution_count": null,
   "metadata": {},
   "outputs": [],
   "source": [
    "df = pd.read_hdf('data/conductance_vary_mu.hdf')\n",
    "df['B'], df['theta'], df['phi'] = funcs.cartesian_coords(df.B_x, df.B_y, df.B_z)\n",
    "\n",
    "params = ['alpha', 'g', 'orbital', 'V_barrier', 'mu', 'theta', 'phi']\n",
    "kdims = ['V_bias', 'B']\n",
    "ds = hv.Dataset(df.set_index(params + kdims).to_xarray())"
   ]
  },
  {
   "cell_type": "code",
   "execution_count": null,
   "metadata": {},
   "outputs": [],
   "source": [
    "%%opts Layout [hspace=0.7]\n",
    "%%output size=200\n",
    "(ds.to(hv.Image, kdims=kdims, vdims=['G_01'], groupby=params, dynamic=True) +\n",
    " ds.to(hv.Image, kdims=kdims, vdims=['G_Andreev'], groupby=params, dynamic=True)).cols(1)"
   ]
  },
  {
   "cell_type": "markdown",
   "metadata": {},
   "source": [
    "# First data, $\\vec{B}$ in different directions\n"
   ]
  },
  {
   "cell_type": "code",
   "execution_count": null,
   "metadata": {},
   "outputs": [],
   "source": [
    "df = pd.read_hdf('data/conductance.hdf')\n",
    "df['B'], df['theta'], df['phi'] = funcs.cartesian_coords(df.B_x, df.B_y, df.B_z)"
   ]
  },
  {
   "cell_type": "code",
   "execution_count": null,
   "metadata": {},
   "outputs": [],
   "source": [
    "params = ['alpha', 'g', 'orbital', 'V_barrier', 'mu', 'theta', 'phi']\n",
    "kdims = ['V_bias', 'B']\n",
    "ds = hv.Dataset(df.set_index(params + kdims).to_xarray())"
   ]
  },
  {
   "cell_type": "code",
   "execution_count": null,
   "metadata": {},
   "outputs": [],
   "source": [
    "%%opts Layout [hspace=0.7]\n",
    "%%output size=200\n",
    "(ds.to(hv.Image, kdims=kdims, vdims=['G_01'], groupby=params, dynamic=True) +\n",
    " ds.to(hv.Image, kdims=kdims, vdims=['G_Andreev'], groupby=params, dynamic=True)).cols(1)"
   ]
  }
 ],
 "metadata": {
  "anaconda-cloud": {},
  "kernelspec": {
   "display_name": "Python [conda env:dev]",
   "language": "python",
   "name": "conda-env-dev-py"
  },
  "language_info": {
   "codemirror_mode": {
    "name": "ipython",
    "version": 3
   },
   "file_extension": ".py",
   "mimetype": "text/x-python",
   "name": "python",
   "nbconvert_exporter": "python",
   "pygments_lexer": "ipython3",
   "version": "3.6.1"
  }
 },
 "nbformat": 4,
 "nbformat_minor": 2
}
