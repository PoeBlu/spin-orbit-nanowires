{
 "cells": [
  {
   "cell_type": "code",
   "execution_count": null,
   "metadata": {
    "collapsed": false,
    "deletable": true,
    "editable": true
   },
   "outputs": [],
   "source": [
    "import numpy as np\n",
    "import pandas as pd\n",
    "from glob import glob\n",
    "import holoviews as hv\n",
    "hv.notebook_extension()\n",
    "\n",
    "df = pd.read_hdf('data/conductance.hdf')\n",
    "df['B'] = np.sqrt(df.B_x**2 +  df.B_y**2 +  df.B_z**2)\n",
    "df['theta'] = np.rad2deg(np.arccos(df.B_z / df.B))\n",
    "df['phi'] = np.rad2deg(np.arctan(df.B_y / df.B_x))\n",
    "df['direction'] = np.argmax(np.array([df.B_x, df.B_y, df.B_z]), axis=0)\n",
    "print(len(df))"
   ]
  },
  {
   "cell_type": "code",
   "execution_count": null,
   "metadata": {
    "collapsed": false,
    "deletable": true,
    "editable": true
   },
   "outputs": [],
   "source": [
    "params = ['alpha', 'g', 'orbital', 'V_barrier', 'mu', 'direction']\n",
    "gb = df.groupby(params)\n",
    "\n",
    "hm = {}\n",
    "hm2 = {}\n",
    "for i, gr in gb:\n",
    "    direction = i[-1]\n",
    "    B = 'B_{}'.format('xyz'[direction])\n",
    "\n",
    "    opts = dict(kdims=['V_bias', 'B_x'], vdims=['G'],\n",
    "                bounds=(gr['V_bias'].min(), gr[B].min(), gr['V_bias'].max(), gr[B].max()))\n",
    "\n",
    "    hm[i] = hv.Image(np.flipud(gr.pivot_table('G_Andreev', B, 'V_bias')), **opts)\n",
    "    hm2[i] = hv.Image(np.flipud(gr.pivot_table('G_01', B, 'V_bias')), **opts)\n",
    "\n",
    "holomap = hv.HoloMap(hm, kdims=params, label='G_Andreev')\n",
    "holomap2 = hv.HoloMap(hm2, kdims=params, label='G_01')"
   ]
  },
  {
   "cell_type": "code",
   "execution_count": null,
   "metadata": {
    "collapsed": false,
    "deletable": true,
    "editable": true
   },
   "outputs": [],
   "source": [
    "%%opts Image {+axiswise} [colorbar=True aspect='square']\n",
    "%%output size=200\n",
    "hv.util.Dynamic(holomap) + hv.util.Dynamic(holomap2)"
   ]
  }
 ],
 "metadata": {
  "anaconda-cloud": {},
  "kernelspec": {
   "display_name": "Python [conda env:dev]",
   "language": "python",
   "name": "conda-env-dev-py"
  },
  "language_info": {
   "codemirror_mode": {
    "name": "ipython",
    "version": 3
   },
   "file_extension": ".py",
   "mimetype": "text/x-python",
   "name": "python",
   "nbconvert_exporter": "python",
   "pygments_lexer": "ipython3",
   "version": "3.6.0"
  }
 },
 "nbformat": 4,
 "nbformat_minor": 2
}
