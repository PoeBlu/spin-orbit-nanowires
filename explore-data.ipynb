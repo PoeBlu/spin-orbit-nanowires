{
 "cells": [
  {
   "cell_type": "code",
   "execution_count": null,
   "metadata": {
    "collapsed": false,
    "deletable": true,
    "editable": true
   },
   "outputs": [],
   "source": [
    "import numpy as np\n",
    "import pandas as pd\n",
    "from glob import glob\n",
    "\n",
    "\n",
    "df = pd.concat([pd.read_hdf(f) for f in glob('test_gaps*.hdf')])\n",
    "df = pd.read_hdf('test_gaps_0.hdf')\n",
    "df['direction'] = df.apply(lambda x: np.argmax([x.B_x, x.B_y, x.B_z]), axis=1)\n",
    "df['B'] = df.apply(lambda x: np.linalg.norm([x.B_x, x.B_y, x.B_z]), axis=1)\n",
    "print(len(df))\n",
    "\n",
    "vals_cols = [col for col in df.columns if len(df[col].unique()) > 1 and col!='E_gap']\n",
    "print(vals_cols)\n",
    "df.sort_values(vals_cols, inplace=True)\n",
    "df.reset_index(drop=True, inplace=True)\n",
    "df.to_hdf('gaps.hdf', 'all_data', complevel=9, complib='zlib')"
   ]
  },
  {
   "cell_type": "code",
   "execution_count": null,
   "metadata": {
    "collapsed": false,
    "deletable": true,
    "editable": true
   },
   "outputs": [],
   "source": [
    "import holoviews as hv\n",
    "hv.notebook_extension()"
   ]
  },
  {
   "cell_type": "code",
   "execution_count": null,
   "metadata": {
    "collapsed": false,
    "deletable": true,
    "editable": true
   },
   "outputs": [],
   "source": [
    "%%opts Image [colorbar=True]\n",
    "params = ['alpha', 'g', 'direction', 'orbital']\n",
    "gb = df.groupby(params)\n",
    "hm = {}\n",
    "for i, gr in gb:\n",
    "    data = gr.pivot_table(values=['E_gap'], index=['B'], columns=['V'])\n",
    "    hm[i] = hv.Image(data, kdims=['V', 'B'], vdims=['E_gap'])\n",
    "hv.HoloMap(hm, kdims=params)"
   ]
  },
  {
   "cell_type": "code",
   "execution_count": null,
   "metadata": {
    "collapsed": false,
    "deletable": true,
    "editable": true
   },
   "outputs": [],
   "source": [
    "da = hv.Dataset(df.set_index(['alpha', 'g', 'direction', 'orbital']).to_xarray())\n",
    "ds = hv.Dataset(da)"
   ]
  }
 ],
 "metadata": {
  "kernelspec": {
   "display_name": "Python 3",
   "language": "python",
   "name": "python3"
  },
  "language_info": {
   "codemirror_mode": {
    "name": "ipython",
    "version": 3
   },
   "file_extension": ".py",
   "mimetype": "text/x-python",
   "name": "python",
   "nbconvert_exporter": "python",
   "pygments_lexer": "ipython3",
   "version": "3.5.3"
  }
 },
 "nbformat": 4,
 "nbformat_minor": 2
}
