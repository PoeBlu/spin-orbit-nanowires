{
 "cells": [
  {
   "cell_type": "code",
   "execution_count": null,
   "metadata": {},
   "outputs": [],
   "source": [
    "from operator import itemgetter\n",
    "import numpy as np\n",
    "import holoviews as hv\n",
    "import funcs\n",
    "hv.notebook_extension('matplotlib', 'bokeh')\n",
    "import adaptive\n",
    "%opts Image {+axiswise} [colorbar=True aspect='square'] (cmap='viridis')"
   ]
  },
  {
   "cell_type": "markdown",
   "metadata": {},
   "source": [
    "![](https://upload.wikimedia.org/wikipedia/commons/thumb/4/4f/3D_Spherical.svg/208px-3D_Spherical.svg.png)"
   ]
  },
  {
   "cell_type": "markdown",
   "metadata": {},
   "source": [
    "# Chemical potential sweep"
   ]
  },
  {
   "cell_type": "code",
   "execution_count": null,
   "metadata": {},
   "outputs": [],
   "source": [
    "import cloudpickle\n",
    "with open('data/learner.cloudpickle', 'rb') as f:\n",
    "    learner = cloudpickle.load(f)"
   ]
  },
  {
   "cell_type": "code",
   "execution_count": null,
   "metadata": {},
   "outputs": [],
   "source": [
    "plots = {tuple(l.cdims.values()): l.plot().redim(x='V_bias', y='B') for l in learner.learners}\n",
    "kdims = list(learner.learners[0].cdims.keys())\n",
    "hm = hv.HoloMap(plots, kdims=kdims)"
   ]
  },
  {
   "cell_type": "markdown",
   "metadata": {},
   "source": [
    "### _Note: in the low chemical potential regime ($\\mu=10$ meV) the lines are so thin that they are not found._ "
   ]
  },
  {
   "cell_type": "code",
   "execution_count": null,
   "metadata": {},
   "outputs": [],
   "source": [
    "%%opts Image {+framewise}\n",
    "%%output size=200\n",
    "# hm\n",
    "hv.util.Dynamic(hm)"
   ]
  },
  {
   "cell_type": "markdown",
   "metadata": {},
   "source": [
    "# Sweep chemical potential 2 (fixed barrier)"
   ]
  },
  {
   "cell_type": "code",
   "execution_count": null,
   "metadata": {},
   "outputs": [],
   "source": [
    "vals = funcs.named_product(g=[0, 50],\n",
    "                           alpha=[0, 20],\n",
    "                           orbital=[False, True],\n",
    "                           direction=list('xyz'),\n",
    "                           mu=list(range(10, 21)))\n",
    "\n",
    "learners = []\n",
    "for val in vals:\n",
    "    f = lambda x: x\n",
    "    learner = adaptive.Learner2D(f, [(-1, 1), (0, 2)])\n",
    "    learner.cdims = val\n",
    "    learners.append(learner)\n",
    "\n",
    "learner = adaptive.DataSaver(adaptive.BalancingLearner(learners), itemgetter('G_01'))\n",
    "folder = 'tmp-2017-12-06-07h39m00s/'\n",
    "funcs.load_DataSaver_extra_data(learner, folder=folder)\n",
    "funcs.load_BalancingLearner_data(learners, folder=folder)"
   ]
  },
  {
   "cell_type": "code",
   "execution_count": null,
   "metadata": {},
   "outputs": [],
   "source": [
    "plots = {tuple(l.cdims.values()): l.plot().redim(x='V_bias', y='B') for l in learner.learner.learners}\n",
    "kdims = list(learner.learner.learners[0].cdims.keys())\n",
    "hm = hv.HoloMap(plots, kdims=kdims)"
   ]
  },
  {
   "cell_type": "code",
   "execution_count": null,
   "metadata": {},
   "outputs": [],
   "source": [
    "%%opts Image {+framewise}\n",
    "%%output size=200\n",
    "# hv.util.Dynamic(hm)\n",
    "hm"
   ]
  },
  {
   "cell_type": "markdown",
   "metadata": {},
   "source": [
    "# Electrical field sweep at fixed $\\mu$\n",
    "* fix tunnel barrier to not be dependent on $\\mu$\n",
    "* sweep E-field\n",
    "* set $\\mu$ in the SC to 100 meV (retune the gap for each potential)"
   ]
  },
  {
   "cell_type": "code",
   "execution_count": null,
   "metadata": {},
   "outputs": [],
   "source": [
    "gaps = {-10: {0: 201.375, 90: 125.875},\n",
    "        -8: {0: 178.375, 90: 116.625},\n",
    "        -6: {0: 152.875, 90: 110.125},\n",
    "        -4: {0: 129.625, 90: 103.125},\n",
    "        -2: {0: 107.125, 90: 97.375},\n",
    "         0: {0: 85.875, 90: 94.875},\n",
    "         2: {0: 65.625, 90: 93.625},\n",
    "         4: {0: 46.875, 90: 94.625},\n",
    "         6: {0: 30.125, 90: 97.375}}\n",
    "\n",
    "vals = funcs.named_product(g=[0, 50],\n",
    "                           alpha=[0, 20],\n",
    "                           orbital=[False, True],\n",
    "                           direction=list('xyz'),\n",
    "                           gradient=list(gaps.keys()),\n",
    "                           angle=[0, 90])\n",
    "\n",
    "learners = []\n",
    "for val in vals:\n",
    "    f = lambda x: 0\n",
    "    learner = adaptive.Learner2D(f, [(-1, 1), (0, 2)])\n",
    "    learner.cdims = val\n",
    "    learners.append(learner)\n",
    "\n",
    "learner = adaptive.BalancingLearner(learners)\n",
    "folder = 'data/gradient-sweep-angle-0-90'\n",
    "funcs.load_BalancingLearner_data(learners, folder)"
   ]
  },
  {
   "cell_type": "code",
   "execution_count": null,
   "metadata": {},
   "outputs": [],
   "source": [
    "plots = {tuple(l.cdims.values()): l.plot().redim(x='V_bias', y='B') for l in learner.learners}\n",
    "kdims = list(learner.learners[0].cdims.keys())\n",
    "hm = hv.HoloMap(plots, kdims=kdims)"
   ]
  },
  {
   "cell_type": "code",
   "execution_count": null,
   "metadata": {},
   "outputs": [],
   "source": [
    "%%opts Image {+framewise}\n",
    "%%output size=200\n",
    "hv.util.Dynamic(hm.select(B=(0, 2)))"
   ]
  }
 ],
 "metadata": {
  "anaconda-cloud": {},
  "kernelspec": {
   "display_name": "Python 3",
   "language": "python",
   "name": "python3"
  },
  "language_info": {
   "codemirror_mode": {
    "name": "ipython",
    "version": 3
   },
   "file_extension": ".py",
   "mimetype": "text/x-python",
   "name": "python",
   "nbconvert_exporter": "python",
   "pygments_lexer": "ipython3",
   "version": "3.6.3"
  }
 },
 "nbformat": 4,
 "nbformat_minor": 2
}
