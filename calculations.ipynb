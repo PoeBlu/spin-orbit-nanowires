{
 "cells": [
  {
   "cell_type": "markdown",
   "metadata": {},
   "source": [
    "# Induced gap and magnetic field"
   ]
  },
  {
   "cell_type": "code",
   "execution_count": null,
   "metadata": {},
   "outputs": [],
   "source": [
    "# 1. Standard library imports\n",
    "import os.path\n",
    "from functools import partial\n",
    "from operator import itemgetter\n",
    "\n",
    "# 2. External package imports\n",
    "import holoviews as hv\n",
    "import kwant\n",
    "import matplotlib.pyplot as plt\n",
    "import numpy as np\n",
    "import pandas as pd\n",
    "from toolz import partition_all\n",
    "\n",
    "# 3. Internal imports\n",
    "import funcs\n",
    "\n",
    "hv.notebook_extension('matplotlib')\n",
    "print(kwant.__version__)\n",
    "import warnings\n",
    "warnings.filterwarnings('ignore', r'Interpreting')"
   ]
  },
  {
   "cell_type": "markdown",
   "metadata": {},
   "source": [
    "# Connect to ipyparallel"
   ]
  },
  {
   "cell_type": "code",
   "execution_count": null,
   "metadata": {},
   "outputs": [],
   "source": [
    "from ipyparallel import Client\n",
    "import hpc05\n",
    "client = hpc05.Client(profile='pbs', timeout=60, extra_args='--timeout=1200')\n",
    "# client = Client()\n",
    "dview = client[:]\n",
    "dview.use_dill()\n",
    "lview = client.load_balanced_view()\n",
    "print(len(dview))\n",
    "\n",
    "%px import sys, os; sys.path.append(os.path.expanduser('~/Work/induced_gap_B_field/'))\n",
    "%px import funcs"
   ]
  },
  {
   "cell_type": "markdown",
   "metadata": {},
   "source": [
    "# Usage"
   ]
  },
  {
   "cell_type": "code",
   "execution_count": null,
   "metadata": {},
   "outputs": [],
   "source": [
    "params = dict(alpha=20, B_x=0.5, B_y=0, B_z=0, Delta=60, g=50, orbital=True,\n",
    "              mu=7, mu_lead=7, c_tunnel=3/4, V=lambda x, y, z: 0, V_barrier=0, **funcs.constants.__dict__)\n",
    "\n",
    "syst_pars = dict(a=10, angle=0, onsite_disorder=False,\n",
    "                 L=200, coverage_angle=180, r1=35, r2=70, shape='circle',\n",
    "                 with_leads=True, with_shell=True, A_correction=True)\n",
    "\n",
    "syst = funcs.make_3d_wire(**syst_pars)\n",
    "\n",
    "kwant.plot(syst);"
   ]
  },
  {
   "cell_type": "code",
   "execution_count": null,
   "metadata": {},
   "outputs": [],
   "source": [
    "lead = syst.leads[0]\n",
    "funcs.plot_wfs_in_cross_section(lead, params, 0)"
   ]
  },
  {
   "cell_type": "code",
   "execution_count": null,
   "metadata": {},
   "outputs": [],
   "source": [
    "%%opts Image [colorbar=True]\n",
    "\n",
    "x = 20\n",
    "xy = funcs.get_cross_section(syst, x, 0)\n",
    "\n",
    "V = lambda x, y, z: 10 * z / syst_pars['r1']\n",
    "\n",
    "potential = np.array([V(*s.pos) for s in syst.sites if s.pos[0]==x])\n",
    "\n",
    "hv.Image(np.rot90(kwant.plotter.mask_interpolate(xy, potential, oversampling=1)[0]))"
   ]
  },
  {
   "cell_type": "code",
   "execution_count": null,
   "metadata": {},
   "outputs": [],
   "source": [
    "%%opts Path [aspect='square']\n",
    "params = dict(c_tunnel=3/4, B_x=0, B_y=0, B_z=0, V_barrier=50, g=50,\n",
    "              alpha=20, orbital=True, V=lambda x, y, z: 0, Delta=60,\n",
    "              **funcs.constants.__dict__)\n",
    "\n",
    "lead_pars = dict(a=10, angle=0,\n",
    "                 coverage_angle=180, r1=35, r2=70, shape='circle',\n",
    "                 with_shell=True, A_correction=True)\n",
    "\n",
    "lead = funcs.make_lead(**lead_pars).finalized()\n",
    "params['mu_lead'] = 10\n",
    "params['B_y'] = 0\n",
    "ks = np.linspace(-1, 1)\n",
    "Es = funcs.bands(lead, params, ks)\n",
    "p1 = hv.Path((ks, Es))[:, -100:100]\n",
    "\n",
    "p1[:, -25:25] + p1[:, -2:2]"
   ]
  },
  {
   "cell_type": "code",
   "execution_count": null,
   "metadata": {},
   "outputs": [],
   "source": [
    "%%time\n",
    "gap = funcs.find_gap(lead, params)\n",
    "print('The bandgap is {} meV'.format(gap))"
   ]
  },
  {
   "cell_type": "code",
   "execution_count": null,
   "metadata": {},
   "outputs": [],
   "source": [
    "params = dict(alpha=20, B_x=0, B_y=0, B_z=0, Delta=60, g=50, orbital=True,\n",
    "              mu=15, mu_lead=15, c_tunnel=3/4, V=lambda x,y,z:0, V_barrier=50, **funcs.constants.__dict__)\n",
    "\n",
    "S = kwant.smatrix(syst, params=params)"
   ]
  },
  {
   "cell_type": "code",
   "execution_count": null,
   "metadata": {},
   "outputs": [],
   "source": [
    "funcs.andreev_conductance(syst, params)"
   ]
  },
  {
   "cell_type": "markdown",
   "metadata": {},
   "source": [
    "# Tuning the gap"
   ]
  },
  {
   "cell_type": "code",
   "execution_count": null,
   "metadata": {},
   "outputs": [],
   "source": [
    "params = dict(c_tunnel=3/4, B_x=0, B_y=0, B_z=0, V_barrier=50, g=50,\n",
    "              alpha=20, orbital=True, V='lambda x, y, z: 0',\n",
    "              **funcs.constants.__dict__)\n",
    "\n",
    "syst_pars = dict(a=10, angle=0, coverage_angle=180, r1=35, r2=70,\n",
    "                 shape='circle', with_shell=True, A_correction=True)\n",
    "\n",
    "def func(x, syst_pars=syst_pars, params=params):\n",
    "    import funcs\n",
    "    import numpy as np\n",
    "    lead = funcs.make_lead(**syst_pars).finalized()\n",
    "    params['mu_lead'], params['Delta'] = x\n",
    "    # Combine the fixed parameters `params` and the changing\n",
    "    # parameters `val` to one dict and evaluate the string\n",
    "    # lambda functions.\n",
    "    params = funcs.parse_params(params)\n",
    "\n",
    "    # Create the Hamiltonian `ham` at k=0.\n",
    "    h0 = lead.cell_hamiltonian(params=params)\n",
    "    t0 = lead.inter_cell_hopping(params=params)\n",
    "    ham = h0 + t0 + t0.conj().T\n",
    "\n",
    "    # Find the energies.\n",
    "    ev = np.linalg.eigvalsh(ham)\n",
    "    \n",
    "    # Return a combined dictionary with the results and input.\n",
    "    return np.abs(ev).min()\n",
    "\n",
    "learner = adaptive.Learner2D(func, [(5, 15), (0, 100)], loss)"
   ]
  },
  {
   "cell_type": "code",
   "execution_count": null,
   "metadata": {},
   "outputs": [],
   "source": [
    "runner = adaptive.Runner(learner, client, goal=lambda l: l.loss() < 0.001)"
   ]
  },
  {
   "cell_type": "code",
   "execution_count": null,
   "metadata": {},
   "outputs": [],
   "source": [
    "plot = learner.plot().redim(x='mu', y='Delta', z='E_gap')\n",
    "plot"
   ]
  },
  {
   "cell_type": "code",
   "execution_count": null,
   "metadata": {},
   "outputs": [],
   "source": [
    "plot.reduce(['mu'], np.min)"
   ]
  },
  {
   "cell_type": "code",
   "execution_count": null,
   "metadata": {},
   "outputs": [],
   "source": [
    "Deltas = np.arange(*learner.bounds[1])\n",
    "hm = hv.HoloMap({Delta: plot.sample(Delta=Delta)[:, 0.3:0.7] for Delta in Deltas})\n",
    "hm * hv.HLine(0.4)"
   ]
  },
  {
   "cell_type": "markdown",
   "metadata": {},
   "source": [
    "# adaptive"
   ]
  },
  {
   "cell_type": "code",
   "execution_count": null,
   "metadata": {},
   "outputs": [],
   "source": [
    "import adaptive\n",
    "from adaptive.learner.learner2D import deviations, areas\n",
    "adaptive.notebook_extension()\n",
    "\n",
    "def loss(ip):\n",
    "    A = np.sqrt(areas(ip))\n",
    "    dev = deviations(ip)[0]\n",
    "    return A * dev + A**2"
   ]
  },
  {
   "cell_type": "code",
   "execution_count": null,
   "metadata": {},
   "outputs": [],
   "source": [
    "params = dict(Delta=60, c_tunnel=3/4, V_barrier=50,\n",
    "              V='lambda x, y, z: 0',\n",
    "             **funcs.constants.__dict__)\n",
    "\n",
    "syst_pars = dict(a=10, angle=0, onsite_disorder=False,\n",
    "                 L=2000, coverage_angle=180, r1=35, r2=70, shape='circle',\n",
    "                 with_leads=True, with_shell=True, A_correction=True)\n",
    "\n",
    "vals = funcs.named_product(g=[0, 50],\n",
    "                           alpha=[0, 20],\n",
    "                           orbital=[False, True],\n",
    "                           direction=list('xyz'),\n",
    "                           mu=list(range(10, 21)))\n",
    "\n",
    "def func(x, val, syst_pars=syst_pars, params=params):\n",
    "    import funcs\n",
    "    params = funcs.parse_params(dict(**params, **val))\n",
    "    \n",
    "    params['mu_lead'] = params['mu']\n",
    "    params['B_x'], params['B_y'], params['B_z'] = (0, 0, 0)\n",
    "    val['V_bias'], params['B_{}'.format(val['direction'])] = x\n",
    "\n",
    "    syst = funcs.make_3d_wire(**syst_pars)\n",
    "    return dict(**funcs.andreev_conductance(syst, params, E=val['V_bias']), **val)\n",
    "\n",
    "learners = [adaptive.Learner2D(partial(func, val=val), [(-1, 1), (0, 1)], loss)\n",
    "            for val in vals]\n",
    "\n",
    "learner = adaptive.DataSaver(adaptive.BalancingLearner(learners), itemgetter('G_01'))"
   ]
  },
  {
   "cell_type": "code",
   "execution_count": null,
   "metadata": {},
   "outputs": [],
   "source": [
    "import deepdish as dd\n",
    "data = dd.io.load('data.dd')\n",
    "for l, (val, d) in zip(learners, data):\n",
    "    l.add_data(d['points'], d['values'])"
   ]
  },
  {
   "cell_type": "code",
   "execution_count": null,
   "metadata": {},
   "outputs": [],
   "source": [
    "runner = adaptive.Runner(learner, executor=client, \n",
    "                         shutdown_executor=False)"
   ]
  },
  {
   "cell_type": "code",
   "execution_count": null,
   "metadata": {},
   "outputs": [],
   "source": [
    "learner.learner.learners[111].plot(triangles_alpha=0.2)"
   ]
  },
  {
   "cell_type": "code",
   "execution_count": null,
   "metadata": {},
   "outputs": [],
   "source": [
    "%%opts Image {+framewise} [colorbar=True]\n",
    "%%output size=200\n",
    "\n",
    "plots = {tuple(val.values()): l.plot(100, 100, 0.5) for (l, val) in zip(learner.learner.learners, vals)}\n",
    "hm = hv.HoloMap(plots, kdims=list(vals[0].keys()))\n",
    "hm"
   ]
  },
  {
   "cell_type": "code",
   "execution_count": null,
   "metadata": {},
   "outputs": [],
   "source": [
    "import deepdish as dd\n",
    "data = [(val, {'points': learner.points, 'values': learner.values})\n",
    "        for learner, val in zip(learner.learner.learners, vals)]\n",
    "dd.io.save('data.dd', data)"
   ]
  },
  {
   "cell_type": "markdown",
   "metadata": {},
   "source": [
    "# ipyparallel"
   ]
  },
  {
   "cell_type": "code",
   "execution_count": null,
   "metadata": {},
   "outputs": [],
   "source": [
    "# Make sure this folder is in your $PYTHONPATH\n",
    "try:\n",
    "    # If this can be imported, it assumes you are on the TU Delft network with access to cluster\n",
    "    import hpc05\n",
    "    client = hpc05.Client(profile='pbs', timeout=60, extra_args='--timeout=1200')\n",
    "    print(\"Connected to hpc05\")\n",
    "except ImportError:\n",
    "    from ipyparallel import Client\n",
    "    client = Client()\n",
    "    print(\"Connected to local engines\")"
   ]
  },
  {
   "cell_type": "code",
   "execution_count": null,
   "metadata": {},
   "outputs": [],
   "source": [
    "dview = client[:]\n",
    "dview.use_dill()\n",
    "lview = client.load_balanced_view()\n",
    "print(len(dview))\n",
    "\n",
    "%px import sys, os; sys.path.append(os.path.expanduser('~/Work/induced_gap_B_field/'))\n",
    "%px import funcs"
   ]
  },
  {
   "cell_type": "markdown",
   "metadata": {},
   "source": [
    "![](https://upload.wikimedia.org/wikipedia/commons/thumb/4/4f/3D_Spherical.svg/200px-3D_Spherical.svg.png)"
   ]
  },
  {
   "cell_type": "code",
   "execution_count": null,
   "metadata": {},
   "outputs": [],
   "source": [
    "params = dict(Delta=60, c_tunnel=3/4, V_barrier=50, V='lambda x, y, z: 0', **funcs.constants.__dict__)\n",
    "\n",
    "syst_pars = dict(a=10, onsite_disorder=False,\n",
    "                 L=2000, coverage_angle=180, r1=35, r2=70, shape='circle',\n",
    "                 with_leads=True, with_shell=True, A_correction=True)\n",
    "\n",
    "\n",
    "vals = funcs.named_product(B=np.linspace(0, 2, 51),\n",
    "                           direction=list('xyz'),\n",
    "                           V_bias=np.linspace(-0.25, 0.25, 51),\n",
    "                           g=[0, 50],\n",
    "                           alpha=[0, 20],\n",
    "                           orbital=[False, True],\n",
    "                           mu=range(10, 21),\n",
    "                           angle=[0, 45, 90])\n",
    "\n",
    "vals = [val for val in vals if (not (val['theta'] == 0 and val['phi'] != 0)) and\n",
    "                               (not (val['g'] == 0 and val['orbital'] == False))]\n",
    "\n",
    "\n",
    "def func(val, syst_pars=syst_pars, params=params):\n",
    "    import funcs\n",
    "    params = funcs.parse_params(dict(**params, **val))\n",
    "    \n",
    "    params['mu_lead'] = params['mu']\n",
    "    params['B_x'], params['B_y'], params['B_z'] = (0, 0, 0)\n",
    "    params['B_{}'.format(val['direction'])] = val['B']\n",
    "    \n",
    "    # Remove parameters from `params` that belong in `syst_pars`.\n",
    "    for x in ['angle']:\n",
    "        syst_pars[x] = params.pop(x)\n",
    "\n",
    "    syst = funcs.make_3d_wire(**syst_pars)\n",
    "    return dict(**funcs.andreev_conductance(syst, params, E=val['V_bias']), **val)\n",
    "\n",
    "# fname = \"tmp/test_conductance_{}_with_V.hdf\"\n",
    "# funcs.run_simulation(lview, func, vals, dict(**params, **syst_pars), fname, 200)"
   ]
  },
  {
   "cell_type": "code",
   "execution_count": null,
   "metadata": {},
   "outputs": [],
   "source": [
    "syst_pars = dict(a=10, angle=45, coverage_angle=180, r1=35, r2=70, shape='circle', with_shell=True)\n",
    "\n",
    "def gap(val, syst_pars=syst_pars, params=params):\n",
    "    import funcs\n",
    "    val['B_x'], val['B_y'], val['B_z'] = val.pop('B')\n",
    "    params = funcs.parse_params(dict(**params, **val))\n",
    "    lead = funcs.make_lead(**syst_pars)\n",
    "    return dict(E_gap=funcs.find_gap(lead, params), **val)\n",
    "\n",
    "fname = \"tmp/gaps_{}.hdf\"\n",
    "funcs.run_simulation(lview, gap, vals, dict(**params, **syst_pars), fname, 200)"
   ]
  }
 ],
 "metadata": {
  "anaconda-cloud": {},
  "kernelspec": {
   "display_name": "Python 3",
   "language": "python",
   "name": "python3"
  },
  "language_info": {
   "codemirror_mode": {
    "name": "ipython",
    "version": 3
   },
   "file_extension": ".py",
   "mimetype": "text/x-python",
   "name": "python",
   "nbconvert_exporter": "python",
   "pygments_lexer": "ipython3",
   "version": "3.6.3"
  }
 },
 "nbformat": 4,
 "nbformat_minor": 1
}
