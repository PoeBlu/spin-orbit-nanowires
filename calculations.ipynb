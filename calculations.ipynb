{
 "cells": [
  {
   "cell_type": "markdown",
   "metadata": {},
   "source": [
    "# Induced gap and magnetic field"
   ]
  },
  {
   "cell_type": "code",
   "execution_count": null,
   "metadata": {},
   "outputs": [],
   "source": [
    "# 1. Standard library imports\n",
    "import asyncio\n",
    "from copy import copy\n",
    "from functools import partial\n",
    "from operator import itemgetter\n",
    "\n",
    "# 2. External package imports\n",
    "import holoviews as hv\n",
    "import kwant\n",
    "import matplotlib.pyplot as plt\n",
    "import numpy as np\n",
    "\n",
    "# 3. Internal imports\n",
    "import funcs\n",
    "import common\n",
    "from common import loss\n",
    "\n",
    "# hv.notebook_extension('matplotlib')\n",
    "print(kwant.__version__)\n",
    "\n",
    "import adaptive\n",
    "adaptive.notebook_extension()"
   ]
  },
  {
   "cell_type": "markdown",
   "metadata": {},
   "source": [
    "# Connect to ipyparallel"
   ]
  },
  {
   "cell_type": "code",
   "execution_count": null,
   "metadata": {},
   "outputs": [],
   "source": [
    "import hpc05\n",
    "hpc05.kill_remote_ipcluster()\n",
    "client, dview, lview = hpc05.start_remote_and_connect(200, profile='pbs2',\n",
    "                                                      folder='~/Work/induced_gap_B_field/')\n",
    "# client, dview, lview = hpc05.connect_ipcluster(100, profile='pbs2', folder='~/Work/induced_gap_B_field/')"
   ]
  },
  {
   "cell_type": "markdown",
   "metadata": {},
   "source": [
    "# Usage"
   ]
  },
  {
   "cell_type": "code",
   "execution_count": null,
   "metadata": {},
   "outputs": [],
   "source": [
    "syst_pars = dict(a=10, angle=0, onsite_disorder=False,\n",
    "                 L=200, coverage_angle=180, r1=35, r2=70, shape='circle',\n",
    "                 with_leads=True, with_shell=True, A_correction=True)\n",
    "\n",
    "params = dict(alpha=20, B_x=0.5, B_y=0, B_z=0, Delta=60, g=50, orbital=True, mu_sc=100,\n",
    "              mu=7, mu_lead=7, c_tunnel=3/4, V=lambda x, y, z: 0, **funcs.constants.__dict__)\n",
    "\n",
    "syst_pars['L_barrier'] = 100\n",
    "params['V_barrier_mu'] = syst_pars['L_barrier']/2\n",
    "params['V_barrier_sigma'] = syst_pars['L_barrier']/10\n",
    "params['V_barrier_height'] = 30\n",
    "params['V_barrier'] = funcs.V_barrier\n",
    "\n",
    "syst = funcs.make_3d_wire(**syst_pars)\n",
    "\n",
    "kwant.plot(syst);"
   ]
  },
  {
   "cell_type": "code",
   "execution_count": null,
   "metadata": {},
   "outputs": [],
   "source": [
    "lead = syst.leads[0]\n",
    "funcs.plot_wfs_in_cross_section(lead, params, 0)"
   ]
  },
  {
   "cell_type": "code",
   "execution_count": null,
   "metadata": {},
   "outputs": [],
   "source": [
    "%%opts Image [colorbar=True]\n",
    "\n",
    "x = 20\n",
    "xy = funcs.get_cross_section(syst, x, 0)\n",
    "\n",
    "V = lambda x, y, z: -2 * z / syst_pars['r1']\n",
    "\n",
    "potential = np.array([V(*s.pos) for s in syst.sites if s.pos[0]==x])\n",
    "\n",
    "hv.Image(np.rot90(kwant.plotter.mask_interpolate(xy, potential, oversampling=1)[0]))"
   ]
  },
  {
   "cell_type": "code",
   "execution_count": null,
   "metadata": {},
   "outputs": [],
   "source": [
    "# %%opts Path [aspect='square']\n",
    "params = dict(c_tunnel=3/4, B_x=0, B_y=0, B_z=0, V_barrier=50, g=50,\n",
    "              alpha=20, orbital=True, V=lambda x, y, z: 0, Delta=60,\n",
    "              **funcs.constants.__dict__)\n",
    "\n",
    "lead_pars = dict(a=10, angle=0,\n",
    "                 coverage_angle=180, r1=35, r2=70, shape='circle',\n",
    "                 with_shell=True, A_correction=True)\n",
    "\n",
    "lead = funcs.make_lead(**lead_pars).finalized()\n",
    "params['mu_lead'] = params['mu_sc'] = 10\n",
    "params['B_y'] = 0\n",
    "ks = np.linspace(-1, 1)\n",
    "Es = funcs.bands(lead, params, ks)\n",
    "p1 = hv.Path((ks, Es))[:, -100:100]\n",
    "\n",
    "p1[:, -25:25] + p1[:, -2:2]"
   ]
  },
  {
   "cell_type": "code",
   "execution_count": null,
   "metadata": {},
   "outputs": [],
   "source": [
    "%%time\n",
    "gap = funcs.find_gap(lead, params)\n",
    "print(f'The bandgap is {gap} meV')"
   ]
  },
  {
   "cell_type": "code",
   "execution_count": null,
   "metadata": {},
   "outputs": [],
   "source": [
    "params = dict(alpha=20, B_x=0, B_y=0, B_z=0, Delta=60, g=50, orbital=True,\n",
    "              mu=15, mu_lead=15, c_tunnel=3/4, V=lambda x,y,z:0, V_barrier=50, **funcs.constants.__dict__)\n",
    "\n",
    "S = kwant.smatrix(syst, params=params)"
   ]
  },
  {
   "cell_type": "code",
   "execution_count": null,
   "metadata": {},
   "outputs": [],
   "source": [
    "funcs.andreev_conductance(syst, params)"
   ]
  },
  {
   "cell_type": "markdown",
   "metadata": {},
   "source": [
    "# Tuning the gap"
   ]
  },
  {
   "cell_type": "code",
   "execution_count": null,
   "metadata": {},
   "outputs": [],
   "source": [
    "params = dict(c_tunnel=3/4, B_x=0, B_y=0, B_z=0, V_barrier=50, g=50,\n",
    "              alpha=20, orbital=True, V='lambda x, y, z: 10 * z / 35', mu_sc=100,\n",
    "              **funcs.constants.__dict__)\n",
    "\n",
    "syst_pars = dict(a=10, angle=0, coverage_angle=180, r1=35, r2=70,\n",
    "                 shape='circle', with_shell=True, A_correction=True)\n",
    "\n",
    "def lowest_energy(x, syst_pars, params):\n",
    "    import funcs\n",
    "    import numpy as np\n",
    "    lead = funcs.make_lead(**syst_pars).finalized()\n",
    "    params['mu_lead'], params['Delta'] = x\n",
    "    # Combine the fixed parameters `params` and the changing\n",
    "    # parameters `val` to one dict and evaluate the string\n",
    "    # lambda functions.\n",
    "    params = funcs.parse_params(params)\n",
    "\n",
    "    # Create the Hamiltonian `ham` at k=0.\n",
    "    h0 = lead.cell_hamiltonian(params=params)\n",
    "    t0 = lead.inter_cell_hopping(params=params)\n",
    "    ham = h0 + t0 + t0.conj().T\n",
    "\n",
    "    # Find the energies.\n",
    "    ev = np.linalg.eigvalsh(ham)\n",
    "    \n",
    "    # Return a combined dictionary with the results and input.\n",
    "    return np.abs(ev).min()\n",
    "\n",
    "def find_crossings(f, g):\n",
    "    return np.argwhere(np.diff(np.sign(f - g)) != 0).reshape(-1)\n",
    "\n",
    "def get_Delta(learner, Delta_ind):\n",
    "    plot = learner.plot(n_x=1000, n_y=1000).redim(x='mu', y='Delta', z='E_gap')\n",
    "    line = plot.reduce(['mu'], np.min)\n",
    "    idx = find_crossings(line.data['E_gap'], Delta_ind)[-1]\n",
    "    Delta = line.data['Delta'][idx]\n",
    "    return Delta"
   ]
  },
  {
   "cell_type": "code",
   "execution_count": null,
   "metadata": {},
   "outputs": [],
   "source": [
    "learner = adaptive.Learner2D(partial(lowest_energy, syst_pars=syst_pars, params=params),\n",
    "                             [(5, 20), (0, 200)], loss)\n",
    "\n",
    "runner = adaptive.Runner(learner, client, goal=lambda l: l.loss() < 0.001)"
   ]
  },
  {
   "cell_type": "code",
   "execution_count": null,
   "metadata": {},
   "outputs": [],
   "source": [
    "runner.task.done()"
   ]
  },
  {
   "cell_type": "code",
   "execution_count": null,
   "metadata": {},
   "outputs": [],
   "source": [
    "%%opts Image [aspect='square']\n",
    "plot = learner.plot().redim(x='mu', y='Delta', z='E_gap')\n",
    "plot"
   ]
  },
  {
   "cell_type": "code",
   "execution_count": null,
   "metadata": {},
   "outputs": [],
   "source": [
    "%%opts Scatter (size=10, color='r')\n",
    "Delta_ind = 0.4\n",
    "\n",
    "line = plot.reduce(['mu'], np.min)\n",
    "line * hv.HLine(0.4) * hv.Scatter((get_Delta(learner, Delta_ind), Delta_ind))"
   ]
  },
  {
   "cell_type": "code",
   "execution_count": null,
   "metadata": {},
   "outputs": [],
   "source": [
    "Deltas = np.arange(*learner.bounds[1])\n",
    "hm = hv.HoloMap({Delta: plot.sample(Delta=Delta)[:, 0.3:0.7] for Delta in Deltas})\n",
    "hm * hv.HLine(0.4)"
   ]
  },
  {
   "cell_type": "markdown",
   "metadata": {},
   "source": [
    "#### Run it for different potentials"
   ]
  },
  {
   "cell_type": "code",
   "execution_count": null,
   "metadata": {},
   "outputs": [],
   "source": [
    "params = dict(c_tunnel=3/4, B_x=0, B_y=0, B_z=0, V_barrier=40, g=50,\n",
    "              alpha=20, orbital=True, mu_sc=100,\n",
    "              **funcs.constants.__dict__)\n",
    "\n",
    "syst_pars = dict(a=10, angle=90, coverage_angle=180, r1=35, r2=70,\n",
    "                 shape='circle', with_shell=True, A_correction=True)\n",
    "\n",
    "learners = []\n",
    "gradients = np.arange(-10, 8, 2)\n",
    "for grad in gradients:\n",
    "    params['V'] = f'lambda x, y, z: {grad} * z / 35'\n",
    "    f = partial(lowest_energy, syst_pars=syst_pars, params=copy(params))\n",
    "    learner = adaptive.Learner2D(f, [(5, 20), (0, 250)], loss)\n",
    "    learner.cdims = grad\n",
    "    learners.append(learner)\n",
    "    \n",
    "learner = adaptive.BalancingLearner(learners)"
   ]
  },
  {
   "cell_type": "code",
   "execution_count": null,
   "metadata": {},
   "outputs": [],
   "source": [
    "runner = adaptive.Runner(learner, client, goal=lambda l: l.loss() < 0.0001)"
   ]
  },
  {
   "cell_type": "code",
   "execution_count": null,
   "metadata": {},
   "outputs": [],
   "source": [
    "runner.task.print_stack(), learner.loss(), sum(l.n for l in learner.learners)"
   ]
  },
  {
   "cell_type": "code",
   "execution_count": null,
   "metadata": {},
   "outputs": [],
   "source": [
    "hv.HoloMap(({l.cdims: l.plot().redim(x='mu', y='Delta', z='E_gap') for l in learner.learners}))"
   ]
  },
  {
   "cell_type": "code",
   "execution_count": null,
   "metadata": {},
   "outputs": [],
   "source": [
    "Delta_ind = 0.4\n",
    "plots = {}\n",
    "gaps = {}\n",
    "for l in learner.learners:\n",
    "    plot = l.plot(n_x=1000, n_y=1000).redim(x='mu', y='Delta', z='E_gap')\n",
    "    line = plot.reduce(['mu'], np.min)\n",
    "    try:\n",
    "        Delta = get_Delta(l, Delta_ind)\n",
    "    except IndexError:\n",
    "        Delta = np.nan\n",
    "    plots[l.cdims] = line * hv.HLine(0.4) * hv.Scatter((Delta, Delta_ind))\n",
    "    gaps[l.cdims] = Delta"
   ]
  },
  {
   "cell_type": "code",
   "execution_count": null,
   "metadata": {},
   "outputs": [],
   "source": [
    "print(gaps)  # Use these in the \"Sweep electric field gradient\" simulation below."
   ]
  },
  {
   "cell_type": "code",
   "execution_count": null,
   "metadata": {},
   "outputs": [],
   "source": [
    "%%opts Scatter (size=5 c='r')\n",
    "hv.HoloMap(plots, kdims=['gradient'])"
   ]
  },
  {
   "cell_type": "markdown",
   "metadata": {},
   "source": [
    "# conductance $V_{bias}$ vs $B_x$"
   ]
  },
  {
   "cell_type": "code",
   "execution_count": null,
   "metadata": {},
   "outputs": [],
   "source": [
    "def conductance(x, val, syst_pars, params):\n",
    "    import funcs\n",
    "\n",
    "    for k in ['angle']:\n",
    "        syst_pars[k] = val[k]\n",
    "\n",
    "    params = funcs.parse_params(dict(**params, **val))\n",
    "    \n",
    "    params['mu_lead'] = params['mu']\n",
    "    params['B_x'], params['B_y'], params['B_z'] = (0, 0, 0)\n",
    "    val['V_bias'], params['B_{}'.format(val['direction'])] = x\n",
    "\n",
    "    syst = funcs.make_3d_wire(**syst_pars)\n",
    "    return funcs.conductance(syst, params, E=val['V_bias'])"
   ]
  },
  {
   "cell_type": "markdown",
   "metadata": {},
   "source": [
    "### Sweep electric field gradient"
   ]
  },
  {
   "cell_type": "code",
   "execution_count": null,
   "metadata": {},
   "outputs": [],
   "source": [
    "gaps = {-10: {0: 201.375, 90: 125.875},\n",
    "        -8: {0: 178.375, 90: 116.625},\n",
    "        -6: {0: 152.875, 90: 110.125},\n",
    "        -4: {0: 129.625, 90: 103.125},\n",
    "        -2: {0: 107.125, 90: 97.375},\n",
    "         0: {0: 85.875, 90: 94.875},\n",
    "         2: {0: 65.625, 90: 93.625},\n",
    "         4: {0: 46.875, 90: 94.625},\n",
    "#          6: {0: 30.125, 90: 97.375},\n",
    "       }\n",
    "\n",
    "params = dict(c_tunnel=3/4, V_barrier=40, mu_sc=100, mu=15,\n",
    "             **funcs.constants.__dict__)\n",
    "\n",
    "syst_pars = dict(a=10, onsite_disorder=False, \n",
    "                 L=2000, coverage_angle=180, r1=35, r2=70, shape='circle',\n",
    "                 with_leads=True, with_shell=True, A_correction=True)\n",
    "\n",
    "vals = funcs.named_product(g=[0, 50],\n",
    "                           alpha=[0, 20],\n",
    "                           orbital=[False, True],\n",
    "                           direction=list('xyz'),\n",
    "                           gradient=list(gaps.keys()),\n",
    "                           angle=[0, 90])\n",
    "\n",
    "learners = []\n",
    "for val in vals:\n",
    "    params['V'] = f'lambda x, y, z: {val[\"gradient\"]} * z / {syst_pars[\"r1\"]}'\n",
    "    params['Delta'] = gaps[val['gradient']][val['angle']]\n",
    "    f = partial(conductance, val=val, params=copy(params), syst_pars=copy(syst_pars))\n",
    "    learner = adaptive.Learner2D(f, [(-1, 1), (0, 2)], loss)\n",
    "    learner.cdims = val\n",
    "    learner.stack_size = 40\n",
    "    learners.append(learner)\n",
    "\n",
    "learner = adaptive.BalancingLearner(learners)\n",
    "folder = 'data/gradient-sweep-angle-0-90'\n",
    "# funcs.load_BalancingLearner_data(learners, folder)"
   ]
  },
  {
   "cell_type": "markdown",
   "metadata": {},
   "source": [
    "### Sweep chemical potential"
   ]
  },
  {
   "cell_type": "code",
   "execution_count": null,
   "metadata": {},
   "outputs": [],
   "source": [
    "syst_pars = dict(a=10, angle=0, onsite_disorder=False,\n",
    "                 L=2000, coverage_angle=180, r1=35, r2=70, shape='circle',\n",
    "                 with_leads=True, with_shell=True, A_correction=True)\n",
    "\n",
    "params = dict(Delta=85.875, c_tunnel=3/4, V='lambda x, y, z: 0', mu_sc=100,\n",
    "             **funcs.constants.__dict__)\n",
    "\n",
    "vals = funcs.named_product(g=[0, 50],\n",
    "                           alpha=[0, 20],\n",
    "                           orbital=[False, True],\n",
    "                           direction=list('xyz'),\n",
    "                           mu=list(range(10, 21)))\n",
    "\n",
    "learners = []\n",
    "for val in vals:\n",
    "    f = partial(conductance, val=val, params=params, syst_pars=syst_pars)\n",
    "    learner = adaptive.Learner2D(f, [(-1, 1), (0, 2)], loss)\n",
    "    learner.cdims = val\n",
    "    learner.stack_size = 20\n",
    "    learners.append(learner)\n",
    "\n",
    "learner = adaptive.BalancingLearner(learners)\n",
    "folder = 'data/mu-sweep'\n",
    "# funcs.load_BalancingLearner_data(learners, folder)"
   ]
  },
  {
   "cell_type": "markdown",
   "metadata": {},
   "source": [
    "### Run"
   ]
  },
  {
   "cell_type": "code",
   "execution_count": null,
   "metadata": {},
   "outputs": [],
   "source": [
    "runner = adaptive.Runner(learner, executor=client, \n",
    "                         shutdown_executor=False, log=False)\n",
    "\n",
    "ioloop = asyncio.get_event_loop()\n",
    "# backup = ioloop.create_task(common.periodic_data_saver(runner, interval=7200))"
   ]
  },
  {
   "cell_type": "code",
   "execution_count": null,
   "metadata": {},
   "outputs": [],
   "source": [
    "funcs.save_BalancingLearner_data(learners, folder)"
   ]
  },
  {
   "cell_type": "code",
   "execution_count": null,
   "metadata": {},
   "outputs": [],
   "source": [
    "# runner.task.cancel()\n",
    "# backup.cancel()\n",
    "runner.task.print_stack()"
   ]
  },
  {
   "cell_type": "code",
   "execution_count": null,
   "metadata": {},
   "outputs": [],
   "source": [
    "sum(l.n for l in learners)"
   ]
  },
  {
   "cell_type": "code",
   "execution_count": null,
   "metadata": {},
   "outputs": [],
   "source": [
    "idx = np.argmin([l.n for l in learner.learners])\n",
    "learner._points[idx][-1][0] = np.inf\n",
    "idx, learners[idx].n"
   ]
  },
  {
   "cell_type": "code",
   "execution_count": null,
   "metadata": {},
   "outputs": [],
   "source": [
    "%%output size=150\n",
    "learner.learners[idx].plot(tri_alpha=0.3)"
   ]
  },
  {
   "cell_type": "code",
   "execution_count": null,
   "metadata": {},
   "outputs": [],
   "source": [
    "%%opts Image {+framewise} [colorbar=True]\n",
    "%%output size=200\n",
    "\n",
    "plots = {tuple(val.values()): l.plot(201, 201, 0) for (l, val) in zip(learner.learners, vals)}\n",
    "hm = hv.HoloMap(plots, kdims=list(vals[0].keys()))\n",
    "hm"
   ]
  },
  {
   "cell_type": "code",
   "execution_count": null,
   "metadata": {},
   "outputs": [],
   "source": [
    "hv.util.Dynamic(hm)"
   ]
  }
 ],
 "metadata": {
  "anaconda-cloud": {},
  "kernelspec": {
   "display_name": "Python 3",
   "language": "python",
   "name": "python3"
  },
  "language_info": {
   "codemirror_mode": {
    "name": "ipython",
    "version": 3
   },
   "file_extension": ".py",
   "mimetype": "text/x-python",
   "name": "python",
   "nbconvert_exporter": "python",
   "pygments_lexer": "ipython3",
   "version": "3.6.3"
  }
 },
 "nbformat": 4,
 "nbformat_minor": 1
}
