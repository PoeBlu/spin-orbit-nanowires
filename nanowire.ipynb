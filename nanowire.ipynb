{
 "cells": [
  {
   "cell_type": "markdown",
   "metadata": {},
   "source": [
    "# Induced gap and magnetic field"
   ]
  },
  {
   "cell_type": "markdown",
   "metadata": {},
   "source": [
    "# TO-DO:\n",
    "* Remove the use of `delta` function in `tunnel_hoppings`\n",
    "* Correct for zero supercurrent because of non-zero total $A$ in SC, example from [orbitalfield](https://github.com/basnijholt/orbitalfield) project:\n",
    "\n",
    "```python\n",
    "    def peierls(val, ind, a):\n",
    "        def phase(s1, s2, p):\n",
    "            x, y, z = s1.pos\n",
    "            A_site = [p.B_y * z - p.B_z * y, 0, p.B_x * y][ind]\n",
    "            if p.A_correction:\n",
    "                A_sc = [A(p, *site.pos) for site in sc_sites]\n",
    "                A_site -= np.mean(A_sc, axis=0)[ind]\n",
    "            A_site *= a * 1e-18 * eV / hbar\n",
    "            return np.cos(A_site) * s0s0 - 1j * np.sin(A_site) * s0sz\n",
    "```"
   ]
  },
  {
   "cell_type": "code",
   "execution_count": null,
   "metadata": {
    "collapsed": false,
    "scrolled": true
   },
   "outputs": [],
   "source": [
    "# 1. Standard library imports\n",
    "from types import SimpleNamespace\n",
    "from importlib import reload\n",
    "\n",
    "# 2. External package imports\n",
    "import holoviews as hv\n",
    "import kwant\n",
    "import matplotlib.pyplot as plt\n",
    "import numpy as np\n",
    "import sympy\n",
    "\n",
    "# 3. Internal imports\n",
    "import funcs\n",
    "reload(funcs)\n",
    "\n",
    "hv.notebook_extension('bokeh')"
   ]
  },
  {
   "cell_type": "markdown",
   "metadata": {},
   "source": [
    "# Usage"
   ]
  },
  {
   "cell_type": "code",
   "execution_count": null,
   "metadata": {
    "collapsed": false,
    "scrolled": false
   },
   "outputs": [],
   "source": [
    "ham_pars = dict(alpha=20, B_x=0, B_y=0, B_z=0, Delta=0.250, g=50, mu_B=funcs.constants.mu_B,\n",
    "                orbital=True, c=funcs.constants.c, hbar=funcs.constants.hbar,\n",
    "                m_eff=funcs.constants.m_eff, mu_sc=0, mu_sm=0, e=funcs.constants.e, c_tunnel=1)\n",
    "\n",
    "syst_params = dict(a=10, angle=45, onsite_disorder=False,\n",
    "                   L=200, phi=135, r1=50, r2=80, shape='circle',\n",
    "                   with_leads=True, with_shell=True)\n",
    "\n",
    "syst = funcs.make_3d_wire(**syst_params)\n",
    "kwant.plot(syst)"
   ]
  },
  {
   "cell_type": "code",
   "execution_count": null,
   "metadata": {
    "collapsed": false
   },
   "outputs": [],
   "source": [
    "%%opts Path [aspect='square']\n",
    "lead = funcs.make_lead(10, 50, 70, 135, 0, True, 'circle')\n",
    "ham_pars['B_x'] = 1\n",
    "ham_pars['B_y'] = 1\n",
    "ham_pars['orbital'] = True\n",
    "ks = np.linspace(-3, 3)\n",
    "Es = funcs.bands(lead, ham_pars, ks)\n",
    "p1 = hv.Path((ks, Es))[:, -100:100]\n",
    "\n",
    "ham_pars['orbital'] = False\n",
    "Es1 = funcs.bands(lead, ham_pars, ks)\n",
    "p2 = hv.Path((ks, Es1))[:, -100:100]\n",
    "\n",
    "p1 * p2"
   ]
  },
  {
   "cell_type": "code",
   "execution_count": null,
   "metadata": {
    "collapsed": false
   },
   "outputs": [],
   "source": [
    "gap = funcs.find_gap(lead, ham_pars)\n",
    "print('The bandgap is {} meV'.format(gap))"
   ]
  },
  {
   "cell_type": "code",
   "execution_count": null,
   "metadata": {
    "collapsed": false,
    "scrolled": false
   },
   "outputs": [],
   "source": [
    "ham_pars = dict(alpha=20, B_x=0, B_y=0, B_z=0, Delta=0., g=50, mu_B=funcs.constants.mu_B,\n",
    "                orbital=True, c=funcs.constants.c, hbar=funcs.constants.hbar,\n",
    "                m_eff=funcs.constants.m_e, mu_sc=0, mu_sm=0, e=funcs.constants.e, c_tunnel=1)\n",
    "\n",
    "S = kwant.smatrix(syst, params=ham_pars)"
   ]
  },
  {
   "cell_type": "code",
   "execution_count": null,
   "metadata": {
    "collapsed": false
   },
   "outputs": [],
   "source": [
    "funcs.andreev_conductance(syst, ham_pars)"
   ]
  }
 ],
 "metadata": {
  "anaconda-cloud": {},
  "kernelspec": {
   "display_name": "Python 3",
   "language": "python",
   "name": "python3"
  },
  "language_info": {
   "codemirror_mode": {
    "name": "ipython",
    "version": 3
   },
   "file_extension": ".py",
   "mimetype": "text/x-python",
   "name": "python",
   "nbconvert_exporter": "python",
   "pygments_lexer": "ipython3",
   "version": "3.5.2"
  }
 },
 "nbformat": 4,
 "nbformat_minor": 1
}
