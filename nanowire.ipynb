{
 "cells": [
  {
   "cell_type": "markdown",
   "metadata": {
    "deletable": true,
    "editable": true
   },
   "source": [
    "# Induced gap and magnetic field"
   ]
  },
  {
   "cell_type": "markdown",
   "metadata": {
    "deletable": true,
    "editable": true
   },
   "source": [
    "# TO-DO:\n",
    "* Remove the use of `delta` function in `tunnel_hoppings`\n",
    "* Tune induced gap algo\n",
    "* Correct for zero supercurrent because of non-zero total $A$ in SC, example from [orbitalfield](https://github.com/basnijholt/orbitalfield) project:\n",
    "\n",
    "```python\n",
    "    def peierls(val, ind, a):\n",
    "        def phase(s1, s2, p):\n",
    "            x, y, z = s1.pos\n",
    "            A_site = [p.B_y * z - p.B_z * y, 0, p.B_x * y][ind]\n",
    "            if p.A_correction:\n",
    "                A_sc = [A(p, *site.pos) for site in sc_sites]\n",
    "                A_site -= np.mean(A_sc, axis=0)[ind]\n",
    "            A_site *= a * 1e-18 * eV / hbar\n",
    "            return np.cos(A_site) * s0s0 - 1j * np.sin(A_site) * s0sz\n",
    "```"
   ]
  },
  {
   "cell_type": "code",
   "execution_count": null,
   "metadata": {
    "collapsed": false,
    "deletable": true,
    "editable": true,
    "scrolled": false
   },
   "outputs": [],
   "source": [
    "# 1. Standard library imports\n",
    "from importlib import reload\n",
    "from itertools import product\n",
    "import os.path\n",
    "from types import SimpleNamespace\n",
    "\n",
    "# 2. External package imports\n",
    "import holoviews as hv\n",
    "import kwant\n",
    "import matplotlib.pyplot as plt\n",
    "import numpy as np\n",
    "import pandas as pd\n",
    "import sympy\n",
    "from toolz import partition_all\n",
    "\n",
    "# 3. Internal imports\n",
    "import funcs\n",
    "reload(funcs)\n",
    "\n",
    "hv.notebook_extension()\n",
    "print(kwant.__version__)"
   ]
  },
  {
   "cell_type": "markdown",
   "metadata": {
    "deletable": true,
    "editable": true
   },
   "source": [
    "# Usage"
   ]
  },
  {
   "cell_type": "code",
   "execution_count": null,
   "metadata": {
    "collapsed": false,
    "deletable": true,
    "editable": true,
    "scrolled": false
   },
   "outputs": [],
   "source": [
    "ham_pars = dict(alpha=20, B_x=0, B_y=0, B_z=0, Delta=60, g=50, mu_B=funcs.constants.mu_B,\n",
    "                orbital=True, c=funcs.constants.c, hbar=funcs.constants.hbar,\n",
    "                m_eff=funcs.constants.m_eff, mu_sc=10, mu_sm=10, e=funcs.constants.e, c_tunnel=7/8, V=0)\n",
    "\n",
    "syst_pars = dict(a=10, angle=45, onsite_disorder=False,\n",
    "                   L=200, phi=135, r1=50, r2=80, shape='circle',\n",
    "                   with_leads=True, with_shell=True)\n",
    "\n",
    "syst = funcs.make_3d_wire(**syst_pars)\n",
    "kwant.plot(syst)"
   ]
  },
  {
   "cell_type": "code",
   "execution_count": null,
   "metadata": {
    "collapsed": false,
    "deletable": true,
    "editable": true
   },
   "outputs": [],
   "source": [
    "%%opts Path [aspect='square']\n",
    "lead = funcs.make_lead(10, 50, 70, 135, 0, True, 'circle')\n",
    "ham_pars['B_x'] = 1\n",
    "ham_pars['B_y'] = 0\n",
    "ham_pars['orbital'] = True\n",
    "ks = np.linspace(-3, 3)\n",
    "Es = funcs.bands(lead, ham_pars, ks)\n",
    "p1 = hv.Path((ks, Es))[:, -100:100]\n",
    "\n",
    "ham_pars['orbital'] = False\n",
    "Es1 = funcs.bands(lead, ham_pars, ks)\n",
    "p2 = hv.Path((ks, Es1))[:, -100:100]\n",
    "\n",
    "p1 * p2"
   ]
  },
  {
   "cell_type": "code",
   "execution_count": null,
   "metadata": {
    "collapsed": false,
    "deletable": true,
    "editable": true
   },
   "outputs": [],
   "source": [
    "(p1 * p2)[:, -1:1]"
   ]
  },
  {
   "cell_type": "code",
   "execution_count": null,
   "metadata": {
    "collapsed": false,
    "deletable": true,
    "editable": true
   },
   "outputs": [],
   "source": [
    "%%time\n",
    "gap = funcs.find_gap(lead, ham_pars)\n",
    "print('The bandgap is {} meV'.format(gap))"
   ]
  },
  {
   "cell_type": "code",
   "execution_count": null,
   "metadata": {
    "collapsed": false,
    "deletable": true,
    "editable": true,
    "scrolled": false
   },
   "outputs": [],
   "source": [
    "ham_pars = dict(alpha=20, B_x=0, B_y=0, B_z=0, Delta=60, g=50, mu_B=funcs.constants.mu_B,\n",
    "                orbital=True, c=funcs.constants.c, hbar=funcs.constants.hbar,\n",
    "                m_eff=funcs.constants.m_e, mu_sc=5, mu_sm=5, e=funcs.constants.e, c_tunnel=7/8, V=0)\n",
    "\n",
    "S = kwant.smatrix(syst, params=ham_pars)"
   ]
  },
  {
   "cell_type": "code",
   "execution_count": null,
   "metadata": {
    "collapsed": false,
    "deletable": true,
    "editable": true
   },
   "outputs": [],
   "source": [
    "funcs.andreev_conductance(syst, ham_pars)"
   ]
  },
  {
   "cell_type": "markdown",
   "metadata": {
    "deletable": true,
    "editable": true
   },
   "source": [
    "# Dask"
   ]
  },
  {
   "cell_type": "code",
   "execution_count": null,
   "metadata": {
    "collapsed": false,
    "deletable": true,
    "editable": true,
    "scrolled": false
   },
   "outputs": [],
   "source": [
    "import dask\n",
    "import distributed\n",
    "from dask import delayed\n",
    "\n",
    "from dask_drmaa import DRMAACluster\n",
    "cluster = DRMAACluster()\n",
    "\n",
    "from dask.distributed import Client\n",
    "client = Client(cluster)\n",
    "cluster.start_workers(10)\n",
    "\n",
    "client.upload_file('combine.py')\n",
    "client.upload_file('funcs.py')"
   ]
  },
  {
   "cell_type": "markdown",
   "metadata": {
    "deletable": true,
    "editable": true
   },
   "source": [
    "# ipyparallel"
   ]
  },
  {
   "cell_type": "code",
   "execution_count": null,
   "metadata": {
    "collapsed": false,
    "deletable": true,
    "editable": true
   },
   "outputs": [],
   "source": [
    "# Make sure this folder is in your $PYTHONPATH\n",
    "import socket\n",
    "if socket.gethostname() == 'hpc05':\n",
    "    from ipyparallel import Client\n",
    "    client = Client(profile='pbs')\n",
    "else:\n",
    "    try:\n",
    "        # If this can be imported, it assumes you are on the TU Delft network with access to cluster\n",
    "        import hpc05\n",
    "        client = hpc05.Client(profile='pbs', timeout=60, extra_args='--timeout=1200')\n",
    "        print(\"Connected to hpc05\")\n",
    "    except ImportError:\n",
    "        from ipyparallel import Client\n",
    "        client = Client()\n",
    "        print(\"Connected to local engines\")"
   ]
  },
  {
   "cell_type": "code",
   "execution_count": null,
   "metadata": {
    "collapsed": false,
    "deletable": true,
    "editable": true,
    "scrolled": false
   },
   "outputs": [],
   "source": [
    "dview = client[:]\n",
    "dview.use_dill()\n",
    "lview = client.load_balanced_view()\n",
    "print(len(dview))\n",
    "\n",
    "%px import sys, os; sys.path.append(os.path.expanduser('~/Work/induced_gap_B_field/'))\n",
    "%px import funcs"
   ]
  },
  {
   "cell_type": "code",
   "execution_count": null,
   "metadata": {
    "collapsed": false,
    "deletable": true,
    "editable": true,
    "scrolled": false
   },
   "outputs": [],
   "source": [
    "ham_pars = dict(Delta=60, mu_B=funcs.constants.mu_B,\n",
    "                c=funcs.constants.c, hbar=funcs.constants.hbar,\n",
    "                m_eff=funcs.constants.m_eff, mu_sc=15, mu_sm=15, e=funcs.constants.e, c_tunnel=7/8)\n",
    "\n",
    "syst_pars = dict(a=10, angle=45, phi=135, r1=50, r2=80, shape='circle', with_shell=True)\n",
    "\n",
    "def gap(val, syst_pars=syst_pars, ham_pars=ham_pars):\n",
    "    import funcs\n",
    "    val['B_x'], val['B_y'], val['B_z'] = val.pop('B')\n",
    "    ham_pars = dict(**ham_pars, **val)\n",
    "    lead = funcs.make_lead(**syst_pars)\n",
    "    return dict(E_gap=funcs.find_gap(lead, ham_pars), **val)\n",
    "\n",
    "\n",
    "# Bs = np.linspace(0, 1, 50)\n",
    "# zeros = np.zeros(Bs.shape)\n",
    "# Bs = np.hstack([np.vstack([Bs, zeros, zeros]),\n",
    "#                 np.vstack([zeros, Bs, zeros]),\n",
    "#                 np.vstack([zeros, zeros, Bs])]).T\n",
    "# Vs = np.linspace(-50, 50, 50)\n",
    "# alphas = [20, 0]\n",
    "# gs = [50, 0]\n",
    "# orbital_bools = [True, False]\n",
    "\n",
    "\n",
    "Bs = np.linspace(0, 1, 25)\n",
    "zeros = np.zeros(Bs.shape)\n",
    "Bs = np.vstack([Bs, zeros, zeros]).T\n",
    "Vs = np.linspace(-50, 50, 25)\n",
    "alphas = [20]\n",
    "gs = [50]\n",
    "orbital_bools = [True]\n",
    "\n",
    "vals = funcs.named_product(B=Bs, V=Vs, g=gs, alpha=alphas, orbital=orbital_bools)\n",
    "print(len(vals))\n",
    "\n",
    "for i, chunk in enumerate(partition_all(3000, vals)):\n",
    "    fname = 'test_gaps_{}.hdf'.format(i)\n",
    "    if not os.path.exists(fname):\n",
    "        E_gap = lview.map_async(gap, chunk)\n",
    "        E_gap.wait_interactive()\n",
    "        E_gap = E_gap.result()\n",
    "\n",
    "        df = pd.DataFrame(E_gap)\n",
    "        \n",
    "        df = df.assign(**syst_pars).assign(**ham_pars).assign(**funcs.constants.__dict__)\n",
    "        df = df.assign(git_hash=funcs.get_git_revision_hash())\n",
    "        df.to_hdf(fname, 'all_data', mode='w')"
   ]
  }
 ],
 "metadata": {
  "anaconda-cloud": {},
  "kernelspec": {
   "display_name": "Python 3",
   "language": "python",
   "name": "python3"
  },
  "language_info": {
   "codemirror_mode": {
    "name": "ipython",
    "version": 3
   },
   "file_extension": ".py",
   "mimetype": "text/x-python",
   "name": "python",
   "nbconvert_exporter": "python",
   "pygments_lexer": "ipython3",
   "version": "3.5.3"
  }
 },
 "nbformat": 4,
 "nbformat_minor": 1
}
