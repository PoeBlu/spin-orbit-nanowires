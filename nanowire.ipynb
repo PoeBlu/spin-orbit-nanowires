{
 "cells": [
  {
   "cell_type": "markdown",
   "metadata": {
    "deletable": true,
    "editable": true
   },
   "source": [
    "# Induced gap and magnetic field"
   ]
  },
  {
   "cell_type": "markdown",
   "metadata": {
    "deletable": true,
    "editable": true
   },
   "source": [
    "# TO-DO:\n",
    "* Remove the use of `delta` function in `tunnel_hoppings`\n",
    "* Tune induced gap algo\n",
    "* Correct for zero supercurrent because of non-zero total $A$ in SC, example from [orbitalfield](https://github.com/basnijholt/orbitalfield) project:\n",
    "\n",
    "```python\n",
    "    def peierls(val, ind, a):\n",
    "        def phase(s1, s2, p):\n",
    "            x, y, z = s1.pos\n",
    "            A_site = [p.B_y * z - p.B_z * y, 0, p.B_x * y][ind]\n",
    "            if p.A_correction:\n",
    "                A_sc = [A(p, *site.pos) for site in sc_sites]\n",
    "                A_site -= np.mean(A_sc, axis=0)[ind]\n",
    "            A_site *= a * 1e-18 * eV / hbar\n",
    "            return np.cos(A_site) * s0s0 - 1j * np.sin(A_site) * s0sz\n",
    "```"
   ]
  },
  {
   "cell_type": "code",
   "execution_count": null,
   "metadata": {
    "collapsed": false,
    "deletable": true,
    "editable": true,
    "scrolled": false
   },
   "outputs": [],
   "source": [
    "# 1. Standard library imports\n",
    "from importlib import reload\n",
    "from itertools import product\n",
    "import os.path\n",
    "from types import SimpleNamespace\n",
    "\n",
    "# 2. External package imports\n",
    "import holoviews as hv\n",
    "import kwant\n",
    "import matplotlib.pyplot as plt\n",
    "import numpy as np\n",
    "import pandas as pd\n",
    "import sympy\n",
    "from toolz import partition_all\n",
    "\n",
    "# 3. Internal imports\n",
    "import funcs\n",
    "reload(funcs)\n",
    "\n",
    "hv.notebook_extension()\n",
    "print(kwant.__version__)\n",
    "import warnings\n",
    "warnings.filterwarnings('ignore', r'Interpreting')"
   ]
  },
  {
   "cell_type": "markdown",
   "metadata": {
    "deletable": true,
    "editable": true
   },
   "source": [
    "# Usage"
   ]
  },
  {
   "cell_type": "code",
   "execution_count": null,
   "metadata": {
    "collapsed": false,
    "deletable": true,
    "editable": true,
    "scrolled": false
   },
   "outputs": [],
   "source": [
    "ham_pars = dict(alpha=20, B_x=0, B_y=0, B_z=0, Delta=60, g=50, mu_B=funcs.constants.mu_B,\n",
    "                orbital=True, c=funcs.constants.c, hbar=funcs.constants.hbar,\n",
    "                m_eff=funcs.constants.m_eff, mu_sc=5, mu_sm=5, e=funcs.constants.e, c_tunnel=7/8, V=0)\n",
    "\n",
    "syst_pars = dict(a=10, angle=0, onsite_disorder=False,\n",
    "                   L=1000, phi=135, r1=50, r2=80, shape='circle',\n",
    "                   with_leads=True, with_shell=True)\n",
    "\n",
    "syst = funcs.make_3d_wire(**syst_pars)\n",
    "kwant.plot(syst)"
   ]
  },
  {
   "cell_type": "code",
   "execution_count": null,
   "metadata": {
    "collapsed": false,
    "deletable": true,
    "editable": true
   },
   "outputs": [],
   "source": [
    "%%opts Path [aspect='square']\n",
    "lead = funcs.make_lead(10, 50, 70, 135, 0, True, 'circle')\n",
    "ham_pars['B_x'] = 1\n",
    "ham_pars['B_y'] = 0\n",
    "ham_pars['orbital'] = True\n",
    "ks = np.linspace(-3, 3)\n",
    "Es = funcs.bands(lead, ham_pars, ks)\n",
    "p1 = hv.Path((ks, Es))[:, -100:100]\n",
    "\n",
    "ham_pars['orbital'] = False\n",
    "Es1 = funcs.bands(lead, ham_pars, ks)\n",
    "p2 = hv.Path((ks, Es1))[:, -100:100]\n",
    "\n",
    "p1 * p2"
   ]
  },
  {
   "cell_type": "code",
   "execution_count": null,
   "metadata": {
    "collapsed": false,
    "deletable": true,
    "editable": true
   },
   "outputs": [],
   "source": [
    "(p1 * p2)[:, -5:5]"
   ]
  },
  {
   "cell_type": "code",
   "execution_count": null,
   "metadata": {
    "collapsed": false,
    "deletable": true,
    "editable": true
   },
   "outputs": [],
   "source": [
    "%%time\n",
    "gap = funcs.find_gap(lead, ham_pars)\n",
    "print('The bandgap is {} meV'.format(gap))"
   ]
  },
  {
   "cell_type": "code",
   "execution_count": null,
   "metadata": {
    "collapsed": false,
    "deletable": true,
    "editable": true,
    "scrolled": false
   },
   "outputs": [],
   "source": [
    "ham_pars = dict(alpha=20, B_x=0, B_y=0, B_z=0, Delta=60, g=50, mu_B=funcs.constants.mu_B,\n",
    "                orbital=True, c=funcs.constants.c, hbar=funcs.constants.hbar,\n",
    "                m_eff=funcs.constants.m_e, mu_sc=5, mu_sm=5, e=funcs.constants.e, c_tunnel=7/8, V=0)\n",
    "\n",
    "S = kwant.smatrix(syst, params=ham_pars)"
   ]
  },
  {
   "cell_type": "code",
   "execution_count": null,
   "metadata": {
    "collapsed": false,
    "deletable": true,
    "editable": true
   },
   "outputs": [],
   "source": [
    "funcs.andreev_conductance(syst, ham_pars)"
   ]
  },
  {
   "cell_type": "markdown",
   "metadata": {
    "deletable": true,
    "editable": true
   },
   "source": [
    "# ipyparallel"
   ]
  },
  {
   "cell_type": "code",
   "execution_count": null,
   "metadata": {
    "collapsed": false,
    "deletable": true,
    "editable": true
   },
   "outputs": [],
   "source": [
    "# Make sure this folder is in your $PYTHONPATH\n",
    "import socket\n",
    "if socket.gethostname() == 'hpc05':\n",
    "    from ipyparallel import Client\n",
    "    client = Client(profile='pbs')\n",
    "else:\n",
    "    try:\n",
    "        # If this can be imported, it assumes you are on the TU Delft network with access to cluster\n",
    "        import hpc05\n",
    "        client = hpc05.Client(profile='pbs', timeout=60, extra_args='--timeout=1200')\n",
    "        print(\"Connected to hpc05\")\n",
    "    except ImportError:\n",
    "        from ipyparallel import Client\n",
    "        client = Client()\n",
    "        print(\"Connected to local engines\")"
   ]
  },
  {
   "cell_type": "code",
   "execution_count": null,
   "metadata": {
    "collapsed": false,
    "deletable": true,
    "editable": true,
    "scrolled": false
   },
   "outputs": [],
   "source": [
    "dview = client[:]\n",
    "dview.use_dill()\n",
    "lview = client.load_balanced_view()\n",
    "print(len(dview))\n",
    "\n",
    "%px import sys, os; sys.path.append(os.path.expanduser('~/Work/induced_gap_B_field/'))\n",
    "%px import funcs"
   ]
  },
  {
   "cell_type": "markdown",
   "metadata": {
    "deletable": true,
    "editable": true
   },
   "source": [
    "![](https://upload.wikimedia.org/wikipedia/commons/thumb/4/4f/3D_Spherical.svg/558px-3D_Spherical.svg.png)"
   ]
  },
  {
   "cell_type": "code",
   "execution_count": null,
   "metadata": {
    "collapsed": false,
    "deletable": true,
    "editable": true,
    "scrolled": false
   },
   "outputs": [],
   "source": [
    "ham_pars = dict(Delta=60, mu_B=funcs.constants.mu_B, V=0,\n",
    "                c=funcs.constants.c, hbar=funcs.constants.hbar,\n",
    "                m_eff=funcs.constants.m_eff, mu_sc=6, mu_sm=6, e=funcs.constants.e, c_tunnel=7/8)\n",
    "\n",
    "syst_pars = dict(a=10, angle=45, onsite_disorder=False,\n",
    "                 L=1000, phi=135, r1=50, r2=80, shape='circle',\n",
    "                 with_leads=True, with_shell=True)\n",
    "\n",
    "def cond(val, syst_pars=syst_pars, ham_pars=ham_pars):\n",
    "    import funcs\n",
    "    val['B_x'], val['B_y'], val['B_z'] = val.pop('B')\n",
    "    ham_pars = dict(**ham_pars, **val)\n",
    "    syst = funcs.make_3d_wire(**syst_pars)\n",
    "    return dict(**funcs.andreev_conductance(syst, ham_pars, E=val['V_bias']), **val)\n",
    "\n",
    "\n",
    "Bs = funcs.spherical_coords_vec(rs=np.linspace(0, 1, 25), thetas=90, phis=0)\n",
    "vals = funcs.named_product(B=Bs,\n",
    "                           V_bias=np.linspace(-200, 200, 25),\n",
    "                           g=[50],\n",
    "                           alpha=[20],\n",
    "                           orbital=[True])\n",
    "print(len(vals))        \n",
    "        \n",
    "for i, chunk in enumerate(partition_all(10000, vals)):\n",
    "#     fname = 'G_{}.hdf'.format(i)\n",
    "#     if not os.path.exists(fname):\n",
    "        G = lview.map_async(cond, chunk)\n",
    "        G.wait_interactive()\n",
    "        G = G.result()\n",
    "\n",
    "        df = pd.DataFrame(G)\n",
    "        \n",
    "        df = df.assign(**syst_pars).assign(**ham_pars).assign(**funcs.constants.__dict__)\n",
    "        df = df.assign(git_hash=funcs.get_git_revision_hash())\n",
    "#         df.to_hdf(fname, 'all_data', mode='w')"
   ]
  },
  {
   "cell_type": "code",
   "execution_count": null,
   "metadata": {
    "collapsed": false,
    "deletable": true,
    "editable": true
   },
   "outputs": [],
   "source": [
    "%%opts GridImage [aspect='square']\n",
    "ds = hv.Dataset(df.set_index(['B_x', 'V_bias', 'g', 'alpha', 'orbital']).to_xarray())\n",
    "ds.to.image(kdims=['V_bias', 'B_x'], vdims=['G_Andreev']) + ds.to.image(kdims=['V_bias', 'B_x'], vdims=['G_01'])"
   ]
  },
  {
   "cell_type": "code",
   "execution_count": null,
   "metadata": {
    "collapsed": true,
    "deletable": true,
    "editable": true
   },
   "outputs": [],
   "source": [
    "# syst_pars = dict(a=10, angle=45, phi=135, r1=50, r2=80, shape='circle', with_shell=True)\n",
    "\n",
    "# def gap(val, syst_pars=syst_pars, ham_pars=ham_pars):\n",
    "#     import funcs\n",
    "#     val['B_x'], val['B_y'], val['B_z'] = val.pop('B')\n",
    "#     ham_pars = dict(**ham_pars, **val)\n",
    "#     lead = funcs.make_lead(**syst_pars)\n",
    "#     return dict(E_gap=funcs.find_gap(lead, ham_pars), **val)\n",
    "\n",
    "# for i, chunk in enumerate(partition_all(3000, vals)):\n",
    "#     fname = 'gaps_{}.hdf'.format(i)\n",
    "#     if not os.path.exists(fname):\n",
    "#         E_gap = lview.map_async(gap, chunk)\n",
    "#         E_gap.wait_interactive()\n",
    "#         E_gap = E_gap.result()\n",
    "\n",
    "#         df = pd.DataFrame(E_gap)\n",
    "        \n",
    "#         df = df.assign(**syst_pars).assign(**ham_pars).assign(**funcs.constants.__dict__)\n",
    "#         df = df.assign(git_hash=funcs.get_git_revision_hash())\n",
    "#         df.to_hdf(fname, 'all_data', mode='w')"
   ]
  },
  {
   "cell_type": "code",
   "execution_count": null,
   "metadata": {
    "collapsed": false,
    "deletable": true,
    "editable": true
   },
   "outputs": [],
   "source": [
    "# from glob import glob\n",
    "# df = pd.concat([pd.read_hdf(f) for f in glob(\"G_*\")], axis=0)\n",
    "# df = pd.read_hdf('G_0_.hdf')"
   ]
  }
 ],
 "metadata": {
  "anaconda-cloud": {},
  "kernelspec": {
   "display_name": "Python [conda env:dev]",
   "language": "python",
   "name": "conda-env-dev-py"
  },
  "language_info": {
   "codemirror_mode": {
    "name": "ipython",
    "version": 3
   },
   "file_extension": ".py",
   "mimetype": "text/x-python",
   "name": "python",
   "nbconvert_exporter": "python",
   "pygments_lexer": "ipython3",
   "version": "3.6.0"
  }
 },
 "nbformat": 4,
 "nbformat_minor": 1
}
