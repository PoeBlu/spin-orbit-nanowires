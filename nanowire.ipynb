{
 "cells": [
  {
   "cell_type": "markdown",
   "metadata": {},
   "source": [
    "# Induced gap and magnetic field"
   ]
  },
  {
   "cell_type": "markdown",
   "metadata": {},
   "source": [
    "# TO-DO:\n",
    "* Tune induced gap algo"
   ]
  },
  {
   "cell_type": "code",
   "execution_count": null,
   "metadata": {
    "scrolled": false
   },
   "outputs": [],
   "source": [
    "# 1. Standard library imports\n",
    "import os.path\n",
    "\n",
    "# 2. External package imports\n",
    "import holoviews as hv\n",
    "import kwant\n",
    "import matplotlib.pyplot as plt\n",
    "import numpy as np\n",
    "import pandas as pd\n",
    "from toolz import partition_all\n",
    "\n",
    "# 3. Internal imports\n",
    "import funcs\n",
    "\n",
    "hv.notebook_extension()\n",
    "print(kwant.__version__)\n",
    "import warnings\n",
    "warnings.filterwarnings('ignore', r'Interpreting')"
   ]
  },
  {
   "cell_type": "markdown",
   "metadata": {},
   "source": [
    "# Usage"
   ]
  },
  {
   "cell_type": "code",
   "execution_count": null,
   "metadata": {
    "scrolled": false
   },
   "outputs": [],
   "source": [
    "params = dict(alpha=20, B_x=0.5, B_y=0, B_z=0, Delta=60, g=50, orbital=True,\n",
    "              mu=7, mu_lead=7, c_tunnel=5/8, V=lambda x, y, z: 0, V_barrier=0, **funcs.constants.__dict__)\n",
    "\n",
    "syst_pars = dict(a=10, angle=40, onsite_disorder=False,\n",
    "                 L=200, coverage_angle=135, r1=50, r2=70, shape='circle',\n",
    "                 with_leads=True, with_shell=True, A_correction=True)\n",
    "\n",
    "syst = funcs.make_3d_wire(**syst_pars)\n",
    "\n",
    "kwant.plot(syst);"
   ]
  },
  {
   "cell_type": "code",
   "execution_count": null,
   "metadata": {
    "collapsed": true
   },
   "outputs": [],
   "source": [
    "lead = syst.leads[0]\n",
    "\n",
    "def get_cross_section(syst, pos, direction):\n",
    "    coord = np.array([s.pos for s in syst.sites if s.pos[direction] == pos])\n",
    "    cross_section = np.delete(coord, direction, 1)\n",
    "    return cross_section\n",
    "\n",
    "def get_densities(lead, k, params):\n",
    "\n",
    "    xy = get_cross_section(lead, pos=0, direction=0)\n",
    "    h, t = lead.cell_hamiltonian(params=params), lead.inter_cell_hopping(params=params)\n",
    "    h_k = h + t * np.exp(1j * k) + t.T.conj() * np.exp(-1j * k)\n",
    "\n",
    "    vals, vecs = np.linalg.eigh(h_k)\n",
    "    indxs = np.argsort(np.abs(vals))\n",
    "    vecs = vecs[:, indxs]\n",
    "    vals = vals[indxs]\n",
    "    \n",
    "    norbs = funcs.lat_from_syst(lead).norbs\n",
    "    densities = np.linalg.norm(vecs.reshape(-1, norbs, len(vecs)), axis=1)**2\n",
    "    return xy, vals, densities.T\n",
    "\n",
    "xy, energies, densities = get_densities(lead, 0.1, params)\n",
    "wfs = [kwant.plotter.mask_interpolate(xy, density, oversampling=1)[0] for density in densities[:40]]\n",
    "\n",
    "ims = {E: hv.Image(wf) for E, wf in zip(energies, wfs)}\n",
    "hv.HoloMap(ims, kdims=[hv.Dimension('E', unit='meV')])"
   ]
  },
  {
   "cell_type": "code",
   "execution_count": null,
   "metadata": {
    "collapsed": true
   },
   "outputs": [],
   "source": [
    "%%opts Image [colorbar=True]\n",
    "\n",
    "x = 20\n",
    "xy = get_cross_section(syst, x, 0)\n",
    "\n",
    "V = lambda x, y, z: 10 * z / syst_pars['r1']\n",
    "\n",
    "potential = np.array([V(*s.pos) for s in syst.sites if s.pos[0]==x])\n",
    "\n",
    "hv.Image(np.rot90(kwant.plotter.mask_interpolate(xy, potential, oversampling=1)[0]))"
   ]
  },
  {
   "cell_type": "code",
   "execution_count": null,
   "metadata": {
    "collapsed": true,
    "scrolled": false
   },
   "outputs": [],
   "source": [
    "%%opts Path [aspect='square']\n",
    "\n",
    "lead = funcs.make_lead(10, 50, 70, 135, 90, True, True, 'circle').finalized()\n",
    "params['B_x'] = 1\n",
    "params['mu_lead'] = 10\n",
    "params['B_y'] = 0\n",
    "ks = np.linspace(-1, 1)\n",
    "Es = funcs.bands(lead, params, ks)\n",
    "p1 = hv.Path((ks, Es))[:, -100:100]\n",
    "\n",
    "# lead = funcs.make_lead(10, 50, 70, 135, 0, False, True, 'circle').finalized()\n",
    "# Es1 = funcs.bands(lead, params, ks) +0.1\n",
    "# p2 = hv.Path((ks, Es1))[:, -100:100]\n",
    "\n",
    "p1 * p2 + (p1*p2)[:, -2:2]"
   ]
  },
  {
   "cell_type": "code",
   "execution_count": null,
   "metadata": {
    "collapsed": true
   },
   "outputs": [],
   "source": [
    "%%time\n",
    "gap = funcs.find_gap(lead, params)\n",
    "print('The bandgap is {} meV'.format(gap))"
   ]
  },
  {
   "cell_type": "code",
   "execution_count": null,
   "metadata": {
    "collapsed": true,
    "scrolled": false
   },
   "outputs": [],
   "source": [
    "params = dict(alpha=20, B_x=0, B_y=0, B_z=0, Delta=60, g=50, orbital=True,\n",
    "              mu=15, mu_lead=15, c_tunnel=5/8, V=lambda x:0, V_barrier=1, **funcs.constants.__dict__)\n",
    "\n",
    "S = kwant.smatrix(syst, params=params)"
   ]
  },
  {
   "cell_type": "code",
   "execution_count": null,
   "metadata": {
    "collapsed": true
   },
   "outputs": [],
   "source": [
    "funcs.andreev_conductance(syst, params)"
   ]
  },
  {
   "cell_type": "markdown",
   "metadata": {},
   "source": [
    "# ipyparallel"
   ]
  },
  {
   "cell_type": "code",
   "execution_count": null,
   "metadata": {
    "collapsed": true
   },
   "outputs": [],
   "source": [
    "# Make sure this folder is in your $PYTHONPATH\n",
    "try:\n",
    "    # If this can be imported, it assumes you are on the TU Delft network with access to cluster\n",
    "    import hpc05\n",
    "    client = hpc05.Client(profile='pbs3', timeout=60, extra_args='--timeout=1200')\n",
    "    print(\"Connected to hpc05\")\n",
    "except ImportError:\n",
    "    from ipyparallel import Client\n",
    "    client = Client()\n",
    "    print(\"Connected to local engines\")"
   ]
  },
  {
   "cell_type": "code",
   "execution_count": null,
   "metadata": {
    "collapsed": true,
    "scrolled": false
   },
   "outputs": [],
   "source": [
    "dview = client[:]\n",
    "dview.use_dill()\n",
    "lview = client.load_balanced_view()\n",
    "print(len(dview))\n",
    "\n",
    "%px import sys, os; sys.path.append(os.path.expanduser('~/Work/induced_gap_B_field/'))\n",
    "%px import funcs"
   ]
  },
  {
   "cell_type": "markdown",
   "metadata": {},
   "source": [
    "![](https://upload.wikimedia.org/wikipedia/commons/thumb/4/4f/3D_Spherical.svg/200px-3D_Spherical.svg.png)"
   ]
  },
  {
   "cell_type": "code",
   "execution_count": null,
   "metadata": {
    "collapsed": true,
    "scrolled": false
   },
   "outputs": [],
   "source": [
    "params = dict(Delta=60, c_tunnel=5/8, **funcs.constants.__dict__)\n",
    "\n",
    "syst_pars = dict(a=10, onsite_disorder=False,\n",
    "                 L=2000, coverage_angle=135, r1=50, r2=70, shape='circle',\n",
    "                 with_leads=True, with_shell=True, A_correction=True)\n",
    "\n",
    "def cond(val, syst_pars=syst_pars, params=params):\n",
    "    import funcs\n",
    "    val['mu_lead'] = val['mu']\n",
    "    val['B_x'], val['B_y'], val['B_z'] = funcs.spherical_coords(val['B'],\n",
    "                                                                val['theta'],\n",
    "                                                                val['phi'])\n",
    "\n",
    "    params = funcs.parse_params(dict(**params, **val))\n",
    "\n",
    "    for x in ['angle']:\n",
    "        syst_pars[x] = params.pop(x)\n",
    "\n",
    "    syst = funcs.make_3d_wire(**syst_pars)\n",
    "    return dict(**funcs.andreev_conductance(syst, params, E=val['V_bias']), **val)\n",
    "\n",
    "\n",
    "\n",
    "vals = funcs.named_product(B=np.linspace(0, 2, 51),\n",
    "                           theta=[0, 90],\n",
    "                           phi=[0, 90],\n",
    "                           V_bias=np.linspace(-0.25, 0.25, 51),\n",
    "                           V_barrier=[15],\n",
    "                           g=[0, 50],\n",
    "                           alpha=[0, 20],\n",
    "                           orbital=[False, True],\n",
    "                           mu=[5, 10, 15, 20],\n",
    "                           V=['lambda x, y, z: 0',\n",
    "                              'lambda x, y, z: 10 * z / 50',\n",
    "                              'lambda x, y, z: -10 * z / 50'],\n",
    "                           angle=[0, 45, 90])\n",
    "\n",
    "vals = [val for val in vals if (not (val['theta'] == 0 and val['phi'] != 0)) and\n",
    "                               (not (val['g'] == 0 and val['orbital'] == False))]\n",
    "\n",
    "print(len(vals))\n",
    "\n",
    "for i, chunk in enumerate(partition_all(20000, vals)):\n",
    "    fname = 'conductance_{:03d}_with_V.hdf'.format(i)\n",
    "    if not os.path.exists(fname):\n",
    "        G = lview.map_async(cond, chunk)\n",
    "        G.wait_interactive()\n",
    "        G = G.result()\n",
    "\n",
    "        df = pd.DataFrame(G)\n",
    "\n",
    "        df = df.assign(**syst_pars).assign(**to_save_params)\n",
    "        df = df.assign(git_hash=funcs.get_git_revision_hash())\n",
    "        df.to_hdf(fname, 'all_data', mode='w')"
   ]
  },
  {
   "cell_type": "code",
   "execution_count": null,
   "metadata": {
    "collapsed": true
   },
   "outputs": [],
   "source": [
    "# syst_pars = dict(a=10, angle=45, coverage_angle=135, r1=50, r2=70, shape='circle', with_shell=True)\n",
    "\n",
    "# def gap(val, syst_pars=syst_pars, params=params):\n",
    "#     import funcs\n",
    "#     val['B_x'], val['B_y'], val['B_z'] = val.pop('B')\n",
    "#     params = dict(**params, **val)\n",
    "#     lead = funcs.make_lead(**syst_pars)\n",
    "#     return dict(E_gap=funcs.find_gap(lead, params), **val)\n",
    "\n",
    "# for i, chunk in enumerate(partition_all(3000, vals)):\n",
    "#     fname = 'gaps_{:03d}.hdf'.format(i)\n",
    "#     if not os.path.exists(fname):\n",
    "#         E_gap = lview.map_async(gap, chunk)\n",
    "#         E_gap.wait_interactive()\n",
    "#         E_gap = E_gap.result()\n",
    "\n",
    "#         df = pd.DataFrame(E_gap)\n",
    "        \n",
    "#         df = df.assign(**syst_pars).assign(**params).assign(**funcs.constants.__dict__)\n",
    "#         df = df.assign(git_hash=funcs.get_git_revision_hash())\n",
    "#         df.to_hdf(fname, 'all_data', mode='w')"
   ]
  },
  {
   "cell_type": "code",
   "execution_count": null,
   "metadata": {
    "collapsed": true
   },
   "outputs": [],
   "source": [
    "# from glob import glob\n",
    "# df = pd.concat([pd.read_hdf(f) for f in glob(\"G_*\")], axis=0)\n",
    "# df = pd.read_hdf('G_0_.hdf')"
   ]
  }
 ],
 "metadata": {
  "anaconda-cloud": {},
  "kernelspec": {
   "display_name": "Python [conda env:dev]",
   "language": "python",
   "name": "conda-env-dev-py"
  },
  "language_info": {
   "codemirror_mode": {
    "name": "ipython",
    "version": 3
   },
   "file_extension": ".py",
   "mimetype": "text/x-python",
   "name": "python",
   "nbconvert_exporter": "python",
   "pygments_lexer": "ipython3",
   "version": "3.6.1"
  }
 },
 "nbformat": 4,
 "nbformat_minor": 1
}
