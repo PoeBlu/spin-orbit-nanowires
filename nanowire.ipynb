{
 "cells": [
  {
   "cell_type": "markdown",
   "metadata": {},
   "source": [
    "# Induced gap and magnetic field"
   ]
  },
  {
   "cell_type": "markdown",
   "metadata": {},
   "source": [
    "# TO-DO:\n",
    "* Remove the use of `delta` function in `tunnel_hoppings`\n",
    "* Correct for zero supercurrent because of non-zero total $A$ in SC, example from [orbitalfield](https://github.com/basnijholt/orbitalfield) project:\n",
    "\n",
    "```python\n",
    "    def peierls(val, ind, a):\n",
    "        def phase(s1, s2, p):\n",
    "            x, y, z = s1.pos\n",
    "            A_site = [p.B_y * z - p.B_z * y, 0, p.B_x * y][ind]\n",
    "            if p.A_correction:\n",
    "                A_sc = [A(p, *site.pos) for site in sc_sites]\n",
    "                A_site -= np.mean(A_sc, axis=0)[ind]\n",
    "            A_site *= a * 1e-18 * eV / hbar\n",
    "            return np.cos(A_site) * s0s0 - 1j * np.sin(A_site) * s0sz\n",
    "```"
   ]
  },
  {
   "cell_type": "code",
   "execution_count": null,
   "metadata": {
    "collapsed": false,
    "scrolled": true
   },
   "outputs": [],
   "source": [
    "# 1. Standard library imports\n",
    "from types import SimpleNamespace\n",
    "from importlib import reload\n",
    "from itertools import product\n",
    "\n",
    "# 2. External package imports\n",
    "import holoviews as hv\n",
    "import kwant\n",
    "import matplotlib.pyplot as plt\n",
    "import numpy as np\n",
    "import pandas as pd\n",
    "import sympy\n",
    "\n",
    "# 3. Internal imports\n",
    "import funcs\n",
    "reload(funcs)\n",
    "\n",
    "hv.notebook_extension('bokeh')\n",
    "print(kwant.__version__)"
   ]
  },
  {
   "cell_type": "markdown",
   "metadata": {},
   "source": [
    "# Usage"
   ]
  },
  {
   "cell_type": "code",
   "execution_count": null,
   "metadata": {
    "collapsed": false,
    "scrolled": false
   },
   "outputs": [],
   "source": [
    "ham_pars = dict(alpha=20, B_x=0, B_y=0, B_z=0, Delta=0.250, g=50, mu_B=funcs.constants.mu_B,\n",
    "                orbital=True, c=funcs.constants.c, hbar=funcs.constants.hbar,\n",
    "                m_eff=funcs.constants.m_eff, mu_sc=10, mu_sm=10, e=funcs.constants.e, c_tunnel=1, V=0)\n",
    "\n",
    "syst_pars = dict(a=10, angle=45, onsite_disorder=False,\n",
    "                   L=200, phi=135, r1=50, r2=80, shape='circle',\n",
    "                   with_leads=True, with_shell=True)\n",
    "\n",
    "syst = funcs.make_3d_wire(**syst_pars)\n",
    "kwant.plot(syst)"
   ]
  },
  {
   "cell_type": "code",
   "execution_count": null,
   "metadata": {
    "collapsed": false
   },
   "outputs": [],
   "source": [
    "%%opts Path [aspect='square']\n",
    "lead = funcs.make_lead(10, 50, 70, 135, 0, True, 'circle')\n",
    "ham_pars['B_x'] = 1\n",
    "ham_pars['B_y'] = 1\n",
    "ham_pars['orbital'] = True\n",
    "ks = np.linspace(-3, 3)\n",
    "Es = funcs.bands(lead, ham_pars, ks)\n",
    "p1 = hv.Path((ks, Es))[:, -100:100]\n",
    "\n",
    "ham_pars['orbital'] = False\n",
    "Es1 = funcs.bands(lead, ham_pars, ks)\n",
    "p2 = hv.Path((ks, Es1))[:, -100:100]\n",
    "\n",
    "p1 * p2"
   ]
  },
  {
   "cell_type": "code",
   "execution_count": null,
   "metadata": {
    "collapsed": false
   },
   "outputs": [],
   "source": [
    "%%time\n",
    "gap = funcs.find_gap(lead, ham_pars)\n",
    "print('The bandgap is {} meV'.format(gap))"
   ]
  },
  {
   "cell_type": "code",
   "execution_count": null,
   "metadata": {
    "collapsed": false,
    "scrolled": false
   },
   "outputs": [],
   "source": [
    "ham_pars = dict(alpha=20, B_x=0, B_y=0, B_z=0, Delta=60, g=50, mu_B=funcs.constants.mu_B,\n",
    "                orbital=True, c=funcs.constants.c, hbar=funcs.constants.hbar,\n",
    "                m_eff=funcs.constants.m_e, mu_sc=5, mu_sm=5, e=funcs.constants.e, c_tunnel=7/8, V=0)\n",
    "\n",
    "S = kwant.smatrix(syst, params=ham_pars)"
   ]
  },
  {
   "cell_type": "code",
   "execution_count": null,
   "metadata": {
    "collapsed": false
   },
   "outputs": [],
   "source": [
    "funcs.andreev_conductance(syst, ham_pars)"
   ]
  },
  {
   "cell_type": "markdown",
   "metadata": {},
   "source": [
    "# Dask"
   ]
  },
  {
   "cell_type": "code",
   "execution_count": null,
   "metadata": {
    "collapsed": false,
    "scrolled": false
   },
   "outputs": [],
   "source": [
    "import dask\n",
    "import distributed\n",
    "from dask import delayed\n",
    "\n",
    "client = distributed.Client()\n",
    "client.upload_file('funcs.py')\n",
    "Bs = np.linspace(0, 1, 5)\n",
    "biases = np.linspace(-100, 100, 5)\n",
    "vals = list(product(Bs, biases))\n",
    "gaps = []\n",
    "for B_x, E_bias in vals:\n",
    "    lead = delayed(funcs.make_lead)(10, 50, 70, 135, 0, True, 'circle')\n",
    "    ham_pars['B_x'] = B_x\n",
    "    ham_pars['V'] = E_bias\n",
    "    gap = delayed(funcs.find_gap)(lead, ham_pars)\n",
    "    gaps.append(gap)\n",
    "\n",
    "l = client.compute(gaps)\n",
    "\n",
    "distributed.progress(l)\n",
    "\n",
    "res = client.gather(l)"
   ]
  },
  {
   "cell_type": "markdown",
   "metadata": {},
   "source": [
    "# ipyparallel"
   ]
  },
  {
   "cell_type": "code",
   "execution_count": null,
   "metadata": {
    "collapsed": false
   },
   "outputs": [],
   "source": [
    "# Make sure this folder is in your $PYTHONPATH\n",
    "import socket\n",
    "if socket.gethostname() == 'hpc05':\n",
    "    from ipyparallel import Client\n",
    "    client = Client(profile='pbs')\n",
    "else:\n",
    "    try:\n",
    "        # If this can be imported, it assumes you are on the TU Delft network with access to cluster\n",
    "        import hpc051\n",
    "        client = hpc05.Client(profile='pbs', timeout=60)\n",
    "        print(\"Connected to hpc05\")\n",
    "    except ImportError:\n",
    "        from ipyparallel import Client\n",
    "        client = Client()\n",
    "        print(\"Connected to local engines\")"
   ]
  },
  {
   "cell_type": "code",
   "execution_count": null,
   "metadata": {
    "collapsed": false,
    "scrolled": false
   },
   "outputs": [],
   "source": [
    "dview = client[:]\n",
    "dview.use_dill()\n",
    "lview = client.load_balanced_view()\n",
    "print(len(dview))\n",
    "%px import sys, os; sys.path.append(os.path.expanduser('~/Work/induced_gap_B_field/'))"
   ]
  },
  {
   "cell_type": "code",
   "execution_count": null,
   "metadata": {
    "collapsed": false,
    "scrolled": false
   },
   "outputs": [],
   "source": [
    "ham_pars = dict(alpha=20, B_y=0, B_z=0, Delta=0.250, g=50, mu_B=funcs.constants.mu_B,\n",
    "                orbital=True, c=funcs.constants.c, hbar=funcs.constants.hbar,\n",
    "                m_eff=funcs.constants.m_eff, mu_sc=10, mu_sm=10, e=funcs.constants.e, c_tunnel=1)\n",
    "\n",
    "syst_pars = dict(a=10, angle=45, phi=135, r1=50, r2=80, shape='circle', with_shell=True)\n",
    "\n",
    "def gap(val, syst_pars=syst_pars, ham_pars=ham_pars):\n",
    "    import funcs, socket\n",
    "    ham_pars['B_x'], ham_pars['V'] = val\n",
    "    lead = funcs.make_lead(**syst_pars)\n",
    "    return {'E_gap': funcs.find_gap(lead, ham_pars), 'hostname': socket.gethostname()}\n",
    "\n",
    "Bs = np.linspace(0, 1, 50)\n",
    "Vs = np.linspace(-30, 30, 50)\n",
    "vals = list(product(Bs, Vs))\n",
    "\n",
    "E_gap = lview.map_async(gap, vals)\n",
    "E_gap.wait_interactive()\n",
    "E_gap = E_gap.result()\n",
    "\n",
    "df = pd.DataFrame(vals, columns=['B_x', 'V'])\n",
    "df = pd.concat((pd.DataFrame(E_gap), df), axis=1)\n",
    "df = df.assign(**syst_pars).assign(**ham_pars).assign(**funcs.constants.__dict__)\n",
    "df = df.assign(git_hash=funcs.get_git_revision_hash())\n",
    "df.to_hdf('test.hdf', 'all_data', mode='w')"
   ]
  },
  {
   "cell_type": "code",
   "execution_count": null,
   "metadata": {
    "collapsed": false
   },
   "outputs": [],
   "source": [
    "da = df.set_index(['B_x', 'V']).to_xarray()\n",
    "ds = hv.Dataset(da)\n",
    "ds.to(hv.GridImage, kdims=['B_x', 'V'], vdims=['E_gap'])"
   ]
  }
 ],
 "metadata": {
  "anaconda-cloud": {},
  "kernelspec": {
   "display_name": "Python 3",
   "language": "python",
   "name": "python3"
  },
  "language_info": {
   "codemirror_mode": {
    "name": "ipython",
    "version": 3
   },
   "file_extension": ".py",
   "mimetype": "text/x-python",
   "name": "python",
   "nbconvert_exporter": "python",
   "pygments_lexer": "ipython3",
   "version": "3.5.2"
  }
 },
 "nbformat": 4,
 "nbformat_minor": 1
}
