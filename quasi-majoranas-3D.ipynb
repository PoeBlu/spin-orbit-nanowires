{
 "cells": [
  {
   "cell_type": "code",
   "execution_count": null,
   "metadata": {},
   "outputs": [],
   "source": [
    "import warnings\n",
    "warnings.filterwarnings(\"ignore\")"
   ]
  },
  {
   "cell_type": "markdown",
   "metadata": {},
   "source": [
    "# Quasi Majoranas in 3D\n"
   ]
  },
  {
   "cell_type": "code",
   "execution_count": null,
   "metadata": {},
   "outputs": [],
   "source": [
    "import hpc05\n",
    "\n",
    "client, dview, lview = hpc05.start_remote_and_connect(300, profile='pbs',\n",
    "                                               folder='~/Work/induced_gap_B_field/',\n",
    "                                               timeout=300, del_old_ipcluster=True)\n",
    "\n",
    "# client, dview, lview = hpc05.connect.connect_ipcluster(50, profile='pbs2',\n",
    "#                                                       folder='~/Work/induced_gap_B_field/',\n",
    "#                                                       timeout=300)\n"
   ]
  },
  {
   "cell_type": "code",
   "execution_count": null,
   "metadata": {},
   "outputs": [],
   "source": [
    "# 1. Standard library imports\n",
    "import asyncio\n",
    "from copy import copy\n",
    "from functools import partial\n",
    "from operator import itemgetter\n",
    "\n",
    "# 2. External package imports\n",
    "import adaptive\n",
    "import holoviews as hv\n",
    "import kwant\n",
    "import matplotlib.pyplot as plt\n",
    "import numpy as np\n",
    "\n",
    "# 3. Internal imports\n",
    "import funcs\n",
    "import common\n",
    "import adaptive_tools\n",
    "adaptive.notebook_extension()"
   ]
  },
  {
   "cell_type": "markdown",
   "metadata": {},
   "source": [
    "# Wire with intrinsic SC"
   ]
  },
  {
   "cell_type": "code",
   "execution_count": null,
   "metadata": {},
   "outputs": [],
   "source": [
    "syst_pars = dict(a=10, L=3000, r=35, shape='circle', with_leads=True, L_barrier=0)\n",
    "\n",
    "params = dict(alpha=70, B_x=0.5, B_y=0, B_z=0, Delta=0.25, g=50, \n",
    "              orbital=True, mu_sc=100, mu=10, mu_lead=10, c_tunnel=3/4,\n",
    "              V=lambda *_: 0,\n",
    "              V_barrier=common.gaussian, sigma=500, V_0=25, x0=0, **funcs.constants.__dict__)\n",
    "\n",
    "syst = funcs.make_simple_3d_wire(**syst_pars)\n",
    "\n",
    "kwant.plot(syst);"
   ]
  },
  {
   "cell_type": "markdown",
   "metadata": {},
   "source": [
    "# Wire with external SC"
   ]
  },
  {
   "cell_type": "code",
   "execution_count": null,
   "metadata": {},
   "outputs": [],
   "source": [
    "syst_pars = dict(a=10, angle=0, onsite_disorder=False, L_barrier=0,\n",
    "                 L=3000, coverage_angle=135, r1=35, r2=70, shape='circle',\n",
    "                 with_leads=True, with_shell=True, A_correction=True)\n",
    "\n",
    "params = dict(alpha=70, B_x=0.5, B_y=0, B_z=0, Delta=60, g=50,\n",
    "              orbital=True, mu_sc=100, mu=10, mu_lead=10, c_tunnel=3/4,\n",
    "              V=lambda *_: 0,\n",
    "              V_barrier=common.gaussian, sigma=500, V_0=25, x0=0, **funcs.constants.__dict__)\n",
    "\n",
    "\n",
    "syst = funcs.make_3d_wire(**syst_pars)\n",
    "\n",
    "kwant.plot(syst);"
   ]
  },
  {
   "cell_type": "markdown",
   "metadata": {},
   "source": [
    "# Pfaffian: topological phase diagram"
   ]
  },
  {
   "cell_type": "code",
   "execution_count": null,
   "metadata": {},
   "outputs": [],
   "source": [
    "from functools import partial\n",
    "\n",
    "lead_pars = dict(a=10, angle=0, coverage_angle=135, r1=35, r2=70,\n",
    "                 shape='circle', with_shell=True, A_correction=True,\n",
    "                 rotate_spin_orbit=False)\n",
    "\n",
    "params = dict(alpha=70, B_x=0, B_y=0, B_z=0, Delta=60, g=50, orbital=True,\n",
    "              mu=10, mu_lead=10, mu_sc=100, c_tunnel=3/4, V=lambda *x: 0,\n",
    "              intrinsic_sc=True,\n",
    "              **funcs.constants.__dict__)\n",
    "\n",
    "\n",
    "\n",
    "def fix_params(params, lead_pars):\n",
    "    params = copy(params)\n",
    "    lead_pars = copy(lead_pars)\n",
    "    params['Delta'] = 0.25\n",
    "    lead_pars['r'] = lead_pars['r1']\n",
    "    for k in ['coverage_angle', 'angle', 'r1', 'r2', 'A_correction', 'with_shell']:\n",
    "        lead_pars.pop(k, None)\n",
    "    lead_pars['superconducting'] = True\n",
    "    return params, lead_pars\n",
    "\n",
    "\n",
    "def get_pfaffians(x, keys, val, params=params, lead_pars=lead_pars):\n",
    "    import common\n",
    "    import funcs\n",
    "    import collections\n",
    "    import scipy.sparse.linalg as sla\n",
    "\n",
    "    params = common.parse_params({**params, **val})\n",
    "\n",
    "    if not isinstance(x, collections.Iterable):\n",
    "        x = [x]\n",
    "    for k, v in zip(keys, x):\n",
    "        params[k] = v\n",
    "\n",
    "    if params['intrinsic_sc']:\n",
    "        make_lead = funcs.make_simple_lead\n",
    "        params, lead_pars = fix_params(params, lead_pars)\n",
    "    else:\n",
    "        make_lead = funcs.make_lead\n",
    "\n",
    "    lead = make_lead(**lead_pars).finalized()\n",
    "\n",
    "    return funcs.calculate_pfaffian(lead, params)\n",
    "\n",
    "\n",
    "vals = common.named_product(orbital=[True, False],\n",
    "                            intrinsic_sc=[True, False])\n",
    "\n",
    "learners = []\n",
    "for val in vals:\n",
    "    f = partial(get_pfaffians, val=val, keys=['B_x', 'mu_lead'])\n",
    "    learner = adaptive_tools.Learner2D(f, ([0, 4], [7, 40]))\n",
    "    learners.append(learner)\n",
    "learner = adaptive_tools.BalancingLearner(learners)\n",
    "folder = 'data-quasi/pfaffian'\n",
    "learner.load(folder)\n",
    "\n",
    "# For use in `Smallest gap phase diagram`\n",
    "contours = {tuple(val.values()): hv.Path(funcs.get_contours_from_image(l.plot().Image.I))\n",
    "            for val, l in zip(vals, learners)}\n",
    "contours_keys = tuple(vals[0].keys())"
   ]
  },
  {
   "cell_type": "code",
   "execution_count": null,
   "metadata": {},
   "outputs": [],
   "source": [
    "runner = adaptive.Runner(learner)\n",
    "runner.live_info(update_interval=5)"
   ]
  },
  {
   "cell_type": "code",
   "execution_count": null,
   "metadata": {},
   "outputs": [],
   "source": [
    "runner.task.print_stack(), [(l.npoints, l.loss()) for l in learners]"
   ]
  },
  {
   "cell_type": "code",
   "execution_count": null,
   "metadata": {},
   "outputs": [],
   "source": [
    "%%output size=120\n",
    "\n",
    "def plotter(learner):\n",
    "    p = learner.plot().Image.I\n",
    "    contours = hv.Path(funcs.get_contours_from_image(p))\n",
    "    return p * hv.Path(contours)\n",
    "\n",
    "HLines = hv.Overlay([hv.HLine(y) for y in [9.7, 14, 15.35]])\n",
    "(learner.plot(cdims=vals, plotter=plotter) * HLines).layout().cols(2)"
   ]
  },
  {
   "cell_type": "code",
   "execution_count": null,
   "metadata": {},
   "outputs": [],
   "source": [
    "learner.save(folder)"
   ]
  },
  {
   "cell_type": "markdown",
   "metadata": {},
   "source": [
    "# Wavefunctions in the lead"
   ]
  },
  {
   "cell_type": "code",
   "execution_count": null,
   "metadata": {},
   "outputs": [],
   "source": [
    "lead = syst.leads[0]\n",
    "funcs.plot_wfs_in_cross_section(lead, params, 0)"
   ]
  },
  {
   "cell_type": "markdown",
   "metadata": {},
   "source": [
    "# Finite sized system spectrum"
   ]
  },
  {
   "cell_type": "code",
   "execution_count": null,
   "metadata": {},
   "outputs": [],
   "source": [
    "params = dict(alpha=70, B_x=0, B_y=0, B_z=0, Delta=60, g=50,\n",
    "              orbital=True, mu=None, mu_lead=None, mu_sc=100, c_tunnel=3/4,\n",
    "              V='lambda *_: 0',\n",
    "              V_barrier=common.gaussian, sigma=500, V_0=25, x0=0,\n",
    "              **funcs.constants.__dict__)\n",
    "\n",
    "syst_pars = dict(a=10, angle=0, onsite_disorder=False, L_barrier=0,\n",
    "                 L=3000, coverage_angle=135, r1=35, r2=70, shape='circle',\n",
    "                 with_leads=True, with_shell=True, A_correction=True)\n",
    "\n",
    "\n",
    "def get_energies(x, key, val, params, syst_pars):\n",
    "    import common\n",
    "    import funcs\n",
    "    import scipy.sparse.linalg as sla\n",
    "    params = common.parse_params({**params, **val})\n",
    "\n",
    "    params[key] = x\n",
    "\n",
    "    if params['intrinsic_sc']:\n",
    "        params, syst_pars = funcs.fix_simple_params(params, syst_pars)\n",
    "        syst = funcs.make_simple_3d_wire(**syst_pars)\n",
    "    else:\n",
    "        syst = funcs.make_3d_wire(**syst_pars)\n",
    "\n",
    "    ham = syst.hamiltonian_submatrix(params=params, sparse=True).tocsc()\n",
    "    energies, _ = sla.eigsh(ham, sigma=0, k=30)\n",
    "    return energies\n",
    "\n",
    "\n",
    "vals = common.named_product(orbital=[True, False],\n",
    "                            intrinsic_sc=[True, False],\n",
    "                            mu=[9.7, 14, 15.35])\n",
    "\n",
    "learners = []\n",
    "for val in vals:\n",
    "    f = partial(get_energies, key='B_x', val=val, params=copy(params), syst_pars=copy(syst_pars))\n",
    "    learner = adaptive_tools.Learner1D(f, [0, 4], adaptive.learner.learner1D.uniform_loss)\n",
    "    learners.append(learner)\n",
    "learner = adaptive_tools.BalancingLearner(learners)\n",
    "folder = 'data-quasi/finite-size-spectrum'\n",
    "learner.load(folder)"
   ]
  },
  {
   "cell_type": "markdown",
   "metadata": {},
   "source": [
    "# Potential shape"
   ]
  },
  {
   "cell_type": "code",
   "execution_count": null,
   "metadata": {},
   "outputs": [],
   "source": [
    "V = lambda x: common.gaussian(x, params['V_0'], syst_pars['L_barrier'], params['sigma'])\n",
    "\n",
    "hv.Curve([(x, V(x)) for x in range(syst_pars['L'] + syst_pars['L_barrier'])], vdims=['V'])"
   ]
  },
  {
   "cell_type": "code",
   "execution_count": null,
   "metadata": {},
   "outputs": [],
   "source": [
    "runner = adaptive.Runner(learner, executor=client)"
   ]
  },
  {
   "cell_type": "code",
   "execution_count": null,
   "metadata": {},
   "outputs": [],
   "source": [
    "runner.live_info(update_interval=5)"
   ]
  },
  {
   "cell_type": "code",
   "execution_count": null,
   "metadata": {},
   "outputs": [],
   "source": [
    "runner.task.print_stack()"
   ]
  },
  {
   "cell_type": "code",
   "execution_count": null,
   "metadata": {},
   "outputs": [],
   "source": [
    "[(l.npoints, l.loss()) for l in learners]"
   ]
  },
  {
   "cell_type": "code",
   "execution_count": null,
   "metadata": {},
   "outputs": [],
   "source": [
    "# %%output size=120\n",
    "\n",
    "def band_plotter(learner):\n",
    "    Bs = list(learner.data.keys())\n",
    "    es = np.array([e for e in learner.data.values()])\n",
    "    plots = [hv.Scatter((Bs, e), kdims=['B_x'], vdims=['E']\n",
    "                       ).opts(style=dict(color='k')) for e in es.T]\n",
    "    return hv.Overlay(plots)\n",
    "\n",
    "learner.plot(cdims=vals, plotter=band_plotter).select(E=(-.5, .5)\n",
    "    ).layout(['orbital', 'intrinsic_sc']).cols(2)"
   ]
  },
  {
   "cell_type": "code",
   "execution_count": null,
   "metadata": {},
   "outputs": [],
   "source": [
    "learner.save(folder)"
   ]
  },
  {
   "cell_type": "code",
   "execution_count": null,
   "metadata": {},
   "outputs": [],
   "source": [
    "runner.task.print_stack(), learner.loss()"
   ]
  },
  {
   "cell_type": "markdown",
   "metadata": {},
   "source": [
    "# Smallest gap phase diagram\n"
   ]
  },
  {
   "cell_type": "code",
   "execution_count": null,
   "metadata": {},
   "outputs": [],
   "source": [
    "def smallest_gap(x, keys, val, params, syst_pars):\n",
    "    import common\n",
    "    import funcs\n",
    "    import numpy as np\n",
    "    import scipy.sparse.linalg as sla\n",
    "\n",
    "    params = common.parse_params({**params, **val})\n",
    "\n",
    "    for _x, key in zip(x, keys):\n",
    "        params[key] = _x\n",
    "\n",
    "    if params['intrinsic_sc']:\n",
    "        params, syst_pars = funcs.fix_simple_params(params, syst_pars)\n",
    "        syst = funcs.make_simple_3d_wire(**syst_pars)\n",
    "    else:\n",
    "        syst = funcs.make_3d_wire(**syst_pars)\n",
    "\n",
    "    ham = syst.hamiltonian_submatrix(params=params, sparse=True).tocsc()\n",
    "    evals, _ = sla.eigsh(ham, sigma=0, k=30, which='LM')\n",
    "    return np.abs(evals).min()"
   ]
  },
  {
   "cell_type": "code",
   "execution_count": null,
   "metadata": {},
   "outputs": [],
   "source": [
    "params = dict(alpha=70, B_y=0, B_z=0, Delta=60, g=50,\n",
    "              mu_lead=14, mu_sc=100, c_tunnel=3/4,\n",
    "              V='lambda *_: 0',\n",
    "              V_barrier=common.gaussian, V_0=25, x0=0,\n",
    "              **funcs.constants.__dict__)\n",
    "\n",
    "syst_pars = dict(a=10, angle=0, onsite_disorder=False, L_barrier=0,\n",
    "                 L=3000, coverage_angle=135, r1=35, r2=70, shape='circle',\n",
    "                 with_leads=True, with_shell=True, A_correction=True)\n",
    "\n",
    "vals = common.named_product(intrinsic_sc=[True, False],\n",
    "                            orbital=[True, False],\n",
    "                            sigma=[200, 300, 400, 500, 600])\n",
    "\n",
    "learners = []\n",
    "for val in vals:\n",
    "    f = partial(smallest_gap, keys=['B_x', 'mu'],\n",
    "                val=val,\n",
    "                params=copy(params),\n",
    "                syst_pars=copy(syst_pars))\n",
    "    learner = adaptive_tools.Learner2D(f, ([0, 4], [7, 20]))\n",
    "    learner.cdims = val\n",
    "\n",
    "    learners.append(learner)\n",
    "learner = adaptive_tools.BalancingLearner(learners)\n",
    "folder = 'data-quasi/sigma_sweep'\n",
    "learner.load(folder)"
   ]
  },
  {
   "cell_type": "code",
   "execution_count": null,
   "metadata": {},
   "outputs": [],
   "source": [
    "runner = adaptive.Runner(learner, executor=client)"
   ]
  },
  {
   "cell_type": "code",
   "execution_count": null,
   "metadata": {},
   "outputs": [],
   "source": [
    "runner.live_info(update_interval=5)"
   ]
  },
  {
   "cell_type": "code",
   "execution_count": null,
   "metadata": {},
   "outputs": [],
   "source": [
    "runner.task.print_stack()"
   ]
  },
  {
   "cell_type": "code",
   "execution_count": null,
   "metadata": {},
   "outputs": [],
   "source": [
    "learner.save(folder)"
   ]
  },
  {
   "cell_type": "markdown",
   "metadata": {},
   "source": [
    "__run cell with Pfaffian before running the cell below for the phase boundaries!__"
   ]
  },
  {
   "cell_type": "code",
   "execution_count": null,
   "metadata": {},
   "outputs": [],
   "source": [
    "%%opts Image [colorbar=True]\n",
    "def phase_plotter(l, zlims=(0.01, 1)):\n",
    "    im = l.plot(tri_alpha=0).Image.I\n",
    "    im.data = np.log10(np.clip(im.data, *zlims))\n",
    "    return (im.redim(x='B_x', y='mu') \n",
    "            * contours[tuple(l.cdims[k] for k in contours_keys)])[:, 7:20]\n",
    "\n",
    "learner.plot(cdims=vals, plotter=phase_plotter).layout(['intrinsic_sc', 'orbital']).cols(2)"
   ]
  },
  {
   "cell_type": "markdown",
   "metadata": {},
   "source": [
    "# Conductance"
   ]
  },
  {
   "cell_type": "code",
   "execution_count": null,
   "metadata": {},
   "outputs": [],
   "source": [
    "params['sigma'] = 200\n",
    "params['V_0'] = 4\n",
    "syst_pars['L_barrier'] = 3 * params['sigma']\n",
    "\n",
    "V = partial(common.gaussian, a=params['V_0'], mu=syst_pars['L_barrier'], sigma=params['sigma'])\n",
    "\n",
    "# V = lambda x: (params['V_0'] * np.tanh((x - syst_pars['L_barrier']) / params['sigma']))\n",
    "hv.Curve([(x, V(x)) for x in range(syst_pars['L'] + syst_pars['L_barrier'])], vdims=['V'])"
   ]
  },
  {
   "cell_type": "code",
   "execution_count": null,
   "metadata": {},
   "outputs": [],
   "source": [
    "%%px --local\n",
    "def conductance(x, val, syst_pars, params):\n",
    "    import funcs\n",
    "\n",
    "    assert syst_pars['L_barrier'] != 0, \"Need a finite length barrier!\"\n",
    "\n",
    "    for k in ['angle']:\n",
    "        try:\n",
    "            syst_pars[k] = val[k]\n",
    "        except KeyError:\n",
    "            pass\n",
    "\n",
    "    params = funcs.parse_params(dict(**params, **val))\n",
    "    \n",
    "    params['mu_lead'] = params['mu'] - params['V'](0)\n",
    "    params['B_x'], params['B_y'], params['B_z'] = (0, 0, 0)\n",
    "    val['V_bias'], params['B_{}'.format(params['direction'])] = x\n",
    "\n",
    "    if params['intrinsic_sc']:\n",
    "        params, syst_pars = funcs.fix_simple_params(params, syst_pars)\n",
    "        syst = funcs.make_simple_3d_wire(**syst_pars)\n",
    "    else:\n",
    "        syst = funcs.make_3d_wire(**syst_pars)\n",
    "    return funcs.andreev_conductance(syst, params, E=val['V_bias'])\n",
    "\n",
    "def conductance1d(x, val, syst_pars, params):\n",
    "    x, y = x, val['B_x']\n",
    "    return conductance(x, val, syst_pars, params)"
   ]
  },
  {
   "cell_type": "code",
   "execution_count": null,
   "metadata": {},
   "outputs": [],
   "source": [
    "params = dict(alpha=70, B_y=0, B_z=0, Delta=60, g=50,\n",
    "              mu_sc=100, c_tunnel=3/4,\n",
    "              V='lambda *_: 0', direction='x',\n",
    "              V_barrier=common.gaussian, sigma=200, x0=0,\n",
    "              **funcs.constants.__dict__)\n",
    "\n",
    "syst_pars = dict(a=10, angle=0, onsite_disorder=False, L_barrier=3*params['sigma'],\n",
    "                 L=4000, coverage_angle=135, r1=35, r2=70, shape='circle',\n",
    "                 with_leads=True, with_shell=True, A_correction=True,\n",
    "                 right_lead=False)"
   ]
  },
  {
   "cell_type": "code",
   "execution_count": null,
   "metadata": {},
   "outputs": [],
   "source": [
    "# Learner2D\n",
    "\n",
    "vals = common.named_product(orbital=[True, False],\n",
    "                            intrinsic_sc=[True, False],\n",
    "                            V_0=[0, 1, 2, 3, 4, 5],\n",
    "                            mu=[9.7, 14, 15.35])\n",
    "\n",
    "learners = []\n",
    "for val in vals:\n",
    "    bounds = [[-1, 1], [0, 4]]\n",
    "    f = partial(conductance,\n",
    "                val=copy(val),\n",
    "                params=copy(params),\n",
    "                syst_pars=copy(syst_pars))\n",
    "    learner = adaptive_tools.Learner2D(f, bounds)\n",
    "    learners.append(learner)\n",
    "learner = adaptive_tools.BalancingLearner(learners)\n",
    "\n",
    "folder = 'data-quasi/conductance-2D'\n",
    "learner.load(folder)"
   ]
  },
  {
   "cell_type": "code",
   "execution_count": null,
   "metadata": {},
   "outputs": [],
   "source": [
    "# Learner1D\n",
    "\n",
    "vals = common.named_product(orbital=[True],\n",
    "                            intrinsic_sc=[True],\n",
    "                            V_0=np.linspace(0, 5, 20),\n",
    "                            mu=np.arange(8, 20),\n",
    "                            B_x=[0, 0.5, 1, 1.5, 2, 2.5, 3])\n",
    "\n",
    "learners = []\n",
    "for val in vals:\n",
    "    f = partial(conductance,\n",
    "                val=copy(val),\n",
    "                params=copy(params),\n",
    "                syst_pars=copy(syst_pars))\n",
    "    learner = adaptive_tools.Learner1D(f, (-1, 1))\n",
    "    learners.append(learner)\n",
    "learner = adaptive_tools.BalancingLearner(learners)\n",
    "folder = 'data-quasi/conductance-1D'\n",
    "learner.load(folder)"
   ]
  },
  {
   "cell_type": "code",
   "execution_count": null,
   "metadata": {},
   "outputs": [],
   "source": [
    "len(learners)"
   ]
  },
  {
   "cell_type": "code",
   "execution_count": null,
   "metadata": {},
   "outputs": [],
   "source": [
    "%%opts EdgePaths (color='w')\n",
    "learner.plot(cdims=vals)"
   ]
  },
  {
   "cell_type": "markdown",
   "metadata": {},
   "source": [
    "## Run "
   ]
  },
  {
   "cell_type": "code",
   "execution_count": null,
   "metadata": {},
   "outputs": [],
   "source": [
    "runner = adaptive.Runner(learner, executor=client)\n",
    "runner.live_info(update_interval=5)"
   ]
  },
  {
   "cell_type": "code",
   "execution_count": null,
   "metadata": {},
   "outputs": [],
   "source": [
    "runner.task.print_stack()"
   ]
  },
  {
   "cell_type": "code",
   "execution_count": null,
   "metadata": {},
   "outputs": [],
   "source": [
    "folder = 'data-quasi/conductance-2D'\n",
    "learner.save(folder)"
   ]
  },
  {
   "cell_type": "code",
   "execution_count": null,
   "metadata": {},
   "outputs": [],
   "source": [
    "%%opts Image [colorbar=True]\n",
    "plotter = lambda l: l.plot().redim(x='E', y='B_x')\n",
    "learner.plot(cdims=vals, plotter=plotter).layout(['intrinsic_sc', 'orbital']).cols(2)"
   ]
  },
  {
   "cell_type": "markdown",
   "metadata": {},
   "source": [
    "##  Run different runners"
   ]
  },
  {
   "cell_type": "code",
   "execution_count": null,
   "metadata": {},
   "outputs": [],
   "source": [
    "import distributed\n",
    "cluster = distributed.LocalCluster(n_workers=30)\n",
    "ex = distributed.Client(cluster)"
   ]
  },
  {
   "cell_type": "code",
   "execution_count": null,
   "metadata": {},
   "outputs": [],
   "source": [
    "futs = adaptive_tools.split_learners_in_executor(learners, ex, profile='pbs', ncores=30, save_interval=900)"
   ]
  },
  {
   "cell_type": "code",
   "execution_count": null,
   "metadata": {},
   "outputs": [],
   "source": [
    "x = [task.done() for task in futs if task.done()]\n",
    "x"
   ]
  },
  {
   "cell_type": "code",
   "execution_count": null,
   "metadata": {},
   "outputs": [],
   "source": [
    "adaptive_tools.combine_learners_from_folders(\n",
    "    learners, file_pattern='tmp-*/*',\n",
    "    save_folder=folder,\n",
    "    save_fname_pattern='data_learner_{}.pickle')"
   ]
  },
  {
   "cell_type": "code",
   "execution_count": null,
   "metadata": {},
   "outputs": [],
   "source": [
    "learner.save('data-quasi/conductance')"
   ]
  },
  {
   "cell_type": "code",
   "execution_count": null,
   "metadata": {},
   "outputs": [],
   "source": [
    "runner.task.print_stack()"
   ]
  },
  {
   "cell_type": "code",
   "execution_count": null,
   "metadata": {},
   "outputs": [],
   "source": [
    "%%opts Image [colorbar=True]\n",
    "%%output size=200\n",
    "\n",
    "def plotter(learner):\n",
    "    return learner.plot(tri_alpha=0.).Image.I.redim(x='V_bias', y='B_x', z='G')\n",
    "\n",
    "learner.plot(plotter)"
   ]
  },
  {
   "cell_type": "markdown",
   "metadata": {},
   "source": [
    "# Band structure"
   ]
  },
  {
   "cell_type": "code",
   "execution_count": null,
   "metadata": {},
   "outputs": [],
   "source": [
    "# %%opts Path [aspect='square']\n",
    "params = dict(c_tunnel=3/4, B_x=0.5, B_y=0, B_z=0, V_barrier=40, g=50, mu_sc=100,\n",
    "              alpha=70, orbital=False, V=lambda x, y, z: 10 * z / 35, Delta=60,\n",
    "              **funcs.constants.__dict__)\n",
    "\n",
    "lead_pars = dict(a=10, angle=0,\n",
    "                 coverage_angle=135, r1=35, r2=70, shape='circle',\n",
    "                 with_shell=True, A_correction=True)\n",
    "\n",
    "lead = funcs.make_lead(**lead_pars).finalized()\n",
    "params['mu_lead'] = params['mu_sc'] = 15\n",
    "params['B_y'] = 0\n",
    "ks = np.linspace(-1, 1)\n",
    "Es = funcs.bands(lead, params, ks)\n",
    "p1 = hv.Path((ks, Es))[:, -100:100]\n",
    "\n",
    "p1[:, -25:25]# + p1[:, -2:2]"
   ]
  },
  {
   "cell_type": "markdown",
   "metadata": {},
   "source": [
    "# Tuning the superconducting gap"
   ]
  },
  {
   "cell_type": "code",
   "execution_count": null,
   "metadata": {},
   "outputs": [],
   "source": [
    "params = dict(c_tunnel=3/4, B_x=0, B_y=0, B_z=0, V_barrier=50, g=50,\n",
    "              alpha=70, orbital=True, V='lambda x, y, z: 10 * z / 35', mu_sc=100,\n",
    "              **funcs.constants.__dict__)\n",
    "\n",
    "syst_pars = dict(a=10, angle=0, coverage_angle=135, r1=35, r2=70,\n",
    "                 shape='circle', with_shell=True, A_correction=True)\n",
    "\n",
    "def lowest_energy(x, syst_pars, params):\n",
    "    import funcs\n",
    "    import numpy as np\n",
    "    lead = funcs.make_lead(**syst_pars).finalized()\n",
    "    params['mu_lead'], params['Delta'] = x\n",
    "    # Combine the fixed parameters `params` and the changing\n",
    "    # parameters `val` to one dict and evaluate the string\n",
    "    # lambda functions.\n",
    "    params = funcs.parse_params(params)\n",
    "\n",
    "    # Create the Hamiltonian `ham` at k=0.\n",
    "    h0 = lead.cell_hamiltonian(params=params)\n",
    "    t0 = lead.inter_cell_hopping(params=params)\n",
    "    ham = h0 + t0 + t0.conj().T\n",
    "\n",
    "    # Find the energies.\n",
    "    ev = np.linalg.eigvalsh(ham)\n",
    "    \n",
    "    # Return a combined dictionary with the results and input.\n",
    "    return np.abs(ev).min()\n",
    "\n",
    "def find_crossings(f, g):\n",
    "    return np.argwhere(np.diff(np.sign(f - g)) != 0).reshape(-1)\n",
    "\n",
    "def get_Delta(learner, Delta_ind):\n",
    "    plot = learner.plot(n=1000).redim(x='mu', y='Delta', z='E_gap')\n",
    "    line = plot.reduce(['mu'], np.min)\n",
    "    idx = find_crossings(line.data['E_gap'], Delta_ind)[-1]\n",
    "    Delta = line.data['Delta'][idx]\n",
    "    return Delta"
   ]
  },
  {
   "cell_type": "code",
   "execution_count": null,
   "metadata": {},
   "outputs": [],
   "source": [
    "learner = adaptive_tools.Learner2D(partial(lowest_energy, syst_pars=syst_pars, params=params),\n",
    "                             [(5, 20), (0, 200)])\n",
    "\n",
    "runner = adaptive.Runner(learner, goal=lambda l: l.loss() < 0.001)"
   ]
  },
  {
   "cell_type": "code",
   "execution_count": null,
   "metadata": {},
   "outputs": [],
   "source": [
    "learner.function((0,0))"
   ]
  },
  {
   "cell_type": "code",
   "execution_count": null,
   "metadata": {},
   "outputs": [],
   "source": [
    "runner.task.print_stack()"
   ]
  },
  {
   "cell_type": "code",
   "execution_count": null,
   "metadata": {},
   "outputs": [],
   "source": [
    "%%opts Image [aspect='square']\n",
    "plot = learner.plot().redim(x='mu', y='Delta', z='E_gap')\n",
    "plot"
   ]
  },
  {
   "cell_type": "code",
   "execution_count": null,
   "metadata": {},
   "outputs": [],
   "source": [
    "%%opts Scatter (size=10, color='r')\n",
    "Delta_ind = 0.4\n",
    "\n",
    "line = plot.reduce(['mu'], np.min)\n",
    "line * hv.HLine(0.4) * hv.Scatter((get_Delta(learner, Delta_ind), Delta_ind))"
   ]
  },
  {
   "cell_type": "code",
   "execution_count": null,
   "metadata": {},
   "outputs": [],
   "source": [
    "Deltas = np.arange(*learner.bounds[1])\n",
    "hm = hv.HoloMap({Delta: plot.sample(Delta=Delta)[:, 0:1] for Delta in Deltas})\n",
    "hm * hv.HLine(0.4)"
   ]
  }
 ],
 "metadata": {
  "anaconda-cloud": {},
  "kernelspec": {
   "display_name": "Python [conda env:dev]",
   "language": "python",
   "name": "conda-env-dev-py"
  },
  "language_info": {
   "codemirror_mode": {
    "name": "ipython",
    "version": 3
   },
   "file_extension": ".py",
   "mimetype": "text/x-python",
   "name": "python",
   "nbconvert_exporter": "python",
   "pygments_lexer": "ipython3",
   "version": "3.6.4"
  }
 },
 "nbformat": 4,
 "nbformat_minor": 1
}
