{
 "cells": [
  {
   "cell_type": "markdown",
   "metadata": {},
   "source": [
    "# Quasi Majoranas in 3D\n"
   ]
  },
  {
   "cell_type": "code",
   "execution_count": null,
   "metadata": {},
   "outputs": [],
   "source": [
    "import hpc05\n",
    "\n",
    "client, dview, lview = hpc05.start_remote_and_connect(100, profile='pbs2',\n",
    "                                               folder='~/Work/induced_gap_B_field/',\n",
    "                                               timeout=300, del_old_ipcluster=False)\n",
    "\n",
    "# client, dview, lview = hpc05.connect.connect_ipcluster(50, profile='pbs2',\n",
    "#                                                       folder='~/Work/induced_gap_B_field/',\n",
    "#                                                       timeout=300)\n"
   ]
  },
  {
   "cell_type": "code",
   "execution_count": null,
   "metadata": {},
   "outputs": [],
   "source": [
    "# 1. Standard library imports\n",
    "import asyncio\n",
    "from copy import copy\n",
    "from functools import partial\n",
    "from operator import itemgetter\n",
    "\n",
    "# 2. External package imports\n",
    "import holoviews as hv\n",
    "import kwant\n",
    "import matplotlib.pyplot as plt\n",
    "import numpy as np\n",
    "\n",
    "# 3. Internal imports\n",
    "import funcs\n",
    "import common\n",
    "from common import loss\n",
    "\n",
    "# hv.notebook_extension('matplotlib')\n",
    "print(kwant.__version__)\n",
    "\n",
    "import adaptive\n",
    "adaptive.notebook_extension()"
   ]
  },
  {
   "cell_type": "markdown",
   "metadata": {},
   "source": [
    "# Wire with intrinsic SC"
   ]
  },
  {
   "cell_type": "code",
   "execution_count": null,
   "metadata": {},
   "outputs": [],
   "source": [
    "syst_pars = dict(a=10, L=3000, r=35, shape='circle', with_leads=True, right_lead=True)\n",
    "\n",
    "params = dict(alpha=70, B_x=0.5, B_y=0, B_z=0, Delta=0.25, g=50, orbital=True, mu_sc=100,\n",
    "              mu=10, mu_lead=10, c_tunnel=3/4, **funcs.constants.__dict__)\n",
    "\n",
    "syst_pars['L_barrier'] = 0\n",
    "V_barrier_mu = syst_pars['L_barrier']  # Exactly where the superconductor starts\n",
    "V_barrier_sigma = 500\n",
    "V_barrier_height = params['mu'] + 5  # Make it larger\n",
    "params['V'] = lambda x, y, z: funcs.V_barrier(x, V_barrier_height, V_barrier_mu, V_barrier_sigma)\n",
    "\n",
    "syst = funcs.make_simple_3d_wire(**syst_pars)\n",
    "\n",
    "kwant.plot(syst);"
   ]
  },
  {
   "cell_type": "markdown",
   "metadata": {},
   "source": [
    "# Wire with external SC"
   ]
  },
  {
   "cell_type": "code",
   "execution_count": null,
   "metadata": {},
   "outputs": [],
   "source": [
    "syst_pars = dict(a=10, angle=0, onsite_disorder=False,\n",
    "                 L=3000, coverage_angle=135, r1=35, r2=70, shape='circle',\n",
    "                 with_leads=True, with_shell=True, A_correction=True)\n",
    "\n",
    "params = dict(alpha=70, B_x=0.5, B_y=0, B_z=0, Delta=60, g=50, orbital=True, mu_sc=100,\n",
    "              mu=10, mu_lead=10, c_tunnel=3/4, **funcs.constants.__dict__)\n",
    "\n",
    "syst_pars['L_barrier'] = 700\n",
    "V_barrier_mu = syst_pars['L_barrier']  # Exactly where the superconductor starts\n",
    "V_barrier_sigma = 200\n",
    "V_barrier_height = params['mu'] + 5  # Make it larger\n",
    "params['V'] = lambda x, y, z: funcs.V_barrier(x, V_barrier_height, V_barrier_mu, V_barrier_sigma)\n",
    "\n",
    "syst = funcs.make_3d_wire(**syst_pars)\n",
    "\n",
    "kwant.plot(syst);"
   ]
  },
  {
   "cell_type": "markdown",
   "metadata": {},
   "source": [
    "# Topological phase diagram"
   ]
  },
  {
   "cell_type": "code",
   "execution_count": null,
   "metadata": {},
   "outputs": [],
   "source": [
    "from functools import partial\n",
    "\n",
    "\n",
    "intrinsic_sc = True\n",
    "\n",
    "lead_pars = dict(a=10, angle=0,\n",
    "                 coverage_angle=135, r1=35, r2=70, shape='circle',\n",
    "                 with_shell=True, A_correction=True, rotate_spin_orbit=False)\n",
    "\n",
    "params = dict(alpha=70, B_x=0, B_y=0, B_z=0, Delta=60, g=50, orbital=True,\n",
    "              mu=10, mu_lead=10, mu_sc=100, c_tunnel=3/4, V=lambda *x: 0,\n",
    "              **funcs.constants.__dict__)\n",
    "\n",
    "if intrinsic_sc:\n",
    "    params['Delta'] = 0.25\n",
    "    lead_pars['r'] = lead_pars['r1']\n",
    "    for k in ['coverage_angle', 'angle', 'r1', 'r2', 'A_correction', 'with_shell']:\n",
    "        lead_pars.pop(k, None)\n",
    "    lead_pars['superconducting'] = True\n",
    "\n",
    "def get_pfaffians(x, keys, intrinsic_sc, params=params, lead_pars=lead_pars):\n",
    "    import collections\n",
    "    import funcs\n",
    "    import scipy.sparse.linalg as sla\n",
    "    if not isinstance(x, collections.Iterable):\n",
    "        x = [x]\n",
    "    for key, val in zip(keys, x):\n",
    "        params[key] = val\n",
    "\n",
    "    if intrinsic_sc:\n",
    "        lead = funcs.make_simple_lead(**lead_pars).finalized()\n",
    "    else:\n",
    "        lead = funcs.make_lead(**lead_pars).finalized()\n",
    "\n",
    "    return funcs.calculate_pfaffian(lead, params)\n",
    "\n",
    "def loss_per_interval(interval, scale, function_values):\n",
    "    import math\n",
    "    x_left, x_right = interval\n",
    "    x_scale, y_scale = scale\n",
    "    dx = (x_right - x_left) / x_scale\n",
    "    return dx\n",
    "\n",
    "# learner = adaptive.Learner1D(partial(get_pfaffians, keys=['B_x']), [0, 2], loss_per_interval)\n",
    "learner = adaptive.Learner2D(partial(get_pfaffians, keys=['B_x', 'mu_lead'],\n",
    "                                     intrinsic_sc=intrinsic_sc), ([0, 4], [7, 40]))"
   ]
  },
  {
   "cell_type": "code",
   "execution_count": null,
   "metadata": {},
   "outputs": [],
   "source": [
    "runner = adaptive.Runner(learner, client, goal=lambda l: l.loss() < 0.01)"
   ]
  },
  {
   "cell_type": "code",
   "execution_count": null,
   "metadata": {},
   "outputs": [],
   "source": [
    "runner.task.print_stack(), learner.n"
   ]
  },
  {
   "cell_type": "code",
   "execution_count": null,
   "metadata": {},
   "outputs": [],
   "source": [
    "%%output size=200\n",
    "learner.plot(tri_alpha=0.)"
   ]
  },
  {
   "cell_type": "code",
   "execution_count": null,
   "metadata": {},
   "outputs": [],
   "source": [
    "learner.loss()"
   ]
  },
  {
   "cell_type": "markdown",
   "metadata": {},
   "source": [
    "# Wavefunctions in the lead"
   ]
  },
  {
   "cell_type": "code",
   "execution_count": null,
   "metadata": {},
   "outputs": [],
   "source": [
    "lead = syst.leads[0]\n",
    "funcs.plot_wfs_in_cross_section(lead, params, 0)"
   ]
  },
  {
   "cell_type": "markdown",
   "metadata": {},
   "source": [
    "# Potential shape"
   ]
  },
  {
   "cell_type": "code",
   "execution_count": null,
   "metadata": {},
   "outputs": [],
   "source": [
    "V = lambda x, y, z: funcs.V_barrier(x, V_barrier_height=params['mu'] + 5,\n",
    "                                                  V_barrier_mu=syst_pars['L_barrier'],\n",
    "                                                  V_barrier_sigma=200)\n",
    "\n",
    "hv.Curve([(x, V(x, 0,0)) for x in range(syst_pars['L'] + syst_pars['L_barrier'])], vdims=['V'])"
   ]
  },
  {
   "cell_type": "markdown",
   "metadata": {},
   "source": [
    "# Finite sized system spectrum"
   ]
  },
  {
   "cell_type": "code",
   "execution_count": null,
   "metadata": {},
   "outputs": [],
   "source": [
    "params = dict(alpha=70, B_x=0, B_y=0, B_z=0, Delta=60, g=50, orbital=False,\n",
    "              mu=14, mu_lead=14, mu_sc=100, c_tunnel=3/4,\n",
    "              **funcs.constants.__dict__)\n",
    "\n",
    "syst_pars = dict(a=10, angle=0, onsite_disorder=False,\n",
    "                 L=3000, coverage_angle=135, r1=35, r2=70, shape='circle',\n",
    "                 with_leads=True, with_shell=True, A_correction=True, right_lead=True)\n",
    "\n",
    "syst_pars['L_barrier'] = 0\n",
    "V_barrier_mu = syst_pars['L_barrier']  # Exactly where the superconductor starts\n",
    "V_barrier_sigma = 700\n",
    "V_barrier_height = params['mu'] + 5  # Make it larger\n",
    "params['V'] = lambda x, y, z: funcs.V_barrier(x, V_barrier_height, V_barrier_mu, V_barrier_sigma)\n",
    "\n",
    "\n",
    "intrinsic_sc = True\n",
    "\n",
    "if intrinsic_sc:\n",
    "    params['Delta'] = 0.25\n",
    "    syst_pars['r'] = syst_pars['r1']\n",
    "    for k in ['coverage_angle', 'angle', 'r1', 'r2',\n",
    "              'A_correction', 'with_shell', 'onsite_disorder']:\n",
    "        syst_pars.pop(k, None)\n",
    "\n",
    "def get_energies(x, key, intrinsic_sc, params=params, syst_pars=syst_pars):\n",
    "    import funcs\n",
    "    import scipy.sparse.linalg as sla\n",
    "    params[key] = x\n",
    "    \n",
    "    if intrinsic_sc:\n",
    "        syst = funcs.make_simple_3d_wire(**syst_pars)\n",
    "    else:\n",
    "        syst = funcs.make_3d_wire(**syst_pars)\n",
    "\n",
    "    params['V'] = lambda x, y, z: funcs.V_barrier(x,\n",
    "                                                  V_barrier_height=params['height'], \n",
    "                                                  V_barrier_mu=syst_pars['L_barrier'],\n",
    "                                                  V_barrier_sigma=200)\n",
    "\n",
    "    ham = syst.hamiltonian_submatrix(params=params, sparse=True).tocsc()\n",
    "    evals, evecs = sla.eigsh(ham, sigma=0, k=30)\n",
    "    return evals#, evecs\n",
    "\n",
    "\n",
    "def loss_per_interval(interval, scale, function_values):\n",
    "    x_left, x_right = interval\n",
    "    x_scale, _ = scale\n",
    "    dx = (x_right - x_left) / x_scale\n",
    "    return dx\n",
    "\n",
    "\n",
    "def plot(learner):\n",
    "    Bs = list(learner.data.keys())\n",
    "    es = np.array([e for e in learner.data.values()])\n",
    "    return hv.Overlay([hv.Scatter((Bs, e)).opts(style=dict(color='k')) for e in es.T])\n",
    "\n",
    "\n",
    "def plots(learners, heights):\n",
    "    return hv.HoloMap({height: plot(l) for l, height in zip(learners, heights)})\n",
    "\n",
    "\n",
    "heights = [5, 10, 15, 20]\n",
    "learners = []\n",
    "for params['height'] in heights:\n",
    "    f = partial(get_energies, key='B_x', intrinsic_sc=intrinsic_sc, params=copy(params))\n",
    "    learner = adaptive.Learner1D(f, [0, 4], loss_per_interval)\n",
    "    learner.cdims = {'height': params['height']}\n",
    "    learners.append(learner)\n",
    "learner = adaptive.BalancingLearner(learners)"
   ]
  },
  {
   "cell_type": "code",
   "execution_count": null,
   "metadata": {},
   "outputs": [],
   "source": [
    "runner = adaptive.Runner(learner, client)"
   ]
  },
  {
   "cell_type": "code",
   "execution_count": null,
   "metadata": {},
   "outputs": [],
   "source": [
    "[(l.n, l.loss()) for l in learners]"
   ]
  },
  {
   "cell_type": "code",
   "execution_count": null,
   "metadata": {},
   "outputs": [],
   "source": [
    "%%output size=200\n",
    "plots(learners, heights).select(y=(-.5, .5))"
   ]
  },
  {
   "cell_type": "code",
   "execution_count": null,
   "metadata": {},
   "outputs": [],
   "source": [
    "runner.task.print_stack(), learner.loss()"
   ]
  },
  {
   "cell_type": "markdown",
   "metadata": {},
   "source": [
    "# Smallest gap phase diagram\n"
   ]
  },
  {
   "cell_type": "code",
   "execution_count": null,
   "metadata": {},
   "outputs": [],
   "source": [
    "params['height'] = params['mu'] + 3"
   ]
  },
  {
   "cell_type": "code",
   "execution_count": null,
   "metadata": {},
   "outputs": [],
   "source": [
    "def smallest_gap(x, keys, intrinsic_sc, params=params, syst_pars=syst_pars):\n",
    "    import funcs\n",
    "    import numpy as np\n",
    "    import scipy.sparse.linalg as sla\n",
    "\n",
    "    for _x, key in zip(x, keys):\n",
    "        params[key] = _x\n",
    "\n",
    "    if intrinsic_sc:\n",
    "        syst = funcs.make_simple_3d_wire(**syst_pars)\n",
    "    else:\n",
    "        syst = funcs.make_3d_wire(**syst_pars)\n",
    "\n",
    "    params['V'] = lambda x, y, z: funcs.V_barrier(x,\n",
    "                                                  V_barrier_height=params['height'], \n",
    "                                                  V_barrier_mu=syst_pars['L_barrier'],\n",
    "                                                  V_barrier_sigma=500)\n",
    "\n",
    "    ham = syst.hamiltonian_submatrix(params=params, sparse=True).tocsc()\n",
    "    evals, _ = sla.eigsh(ham, sigma=0, k=30, which='LM')\n",
    "    return np.abs(evals).min()\n",
    "\n",
    "learners = []\n",
    "\n",
    "f = partial(smallest_gap, keys=['B_x', 'mu'], intrinsic_sc=intrinsic_sc, params=copy(params))\n",
    "learner = adaptive.Learner2D(f, ([0, 4], [7, 20]), common.loss)"
   ]
  },
  {
   "cell_type": "code",
   "execution_count": null,
   "metadata": {},
   "outputs": [],
   "source": [
    "runner = adaptive.Runner(learner, client)"
   ]
  },
  {
   "cell_type": "code",
   "execution_count": null,
   "metadata": {},
   "outputs": [],
   "source": [
    "learner.n"
   ]
  },
  {
   "cell_type": "code",
   "execution_count": null,
   "metadata": {},
   "outputs": [],
   "source": [
    "%%output size=200\n",
    "%%opts Image [colorbar=True]\n",
    "im = learner.plot(tri_alpha=0)\n",
    "im"
   ]
  },
  {
   "cell_type": "markdown",
   "metadata": {},
   "source": [
    "# Random crap"
   ]
  },
  {
   "cell_type": "code",
   "execution_count": null,
   "metadata": {},
   "outputs": [],
   "source": [
    "# %%opts Path [aspect='square']\n",
    "params = dict(c_tunnel=3/4, B_x=0.5, B_y=0, B_z=0, V_barrier=40, g=50, mu_sc=100,\n",
    "              alpha=70, orbital=False, V=lambda x, y, z: 10 * z / 35, Delta=60,\n",
    "              **funcs.constants.__dict__)\n",
    "\n",
    "lead_pars = dict(a=10, angle=0,\n",
    "                 coverage_angle=135, r1=35, r2=70, shape='circle',\n",
    "                 with_shell=True, A_correction=True, rotate_spin_orbit=False)\n",
    "\n",
    "lead = funcs.make_lead(**lead_pars).finalized()\n",
    "params['mu_lead'] = params['mu_sc'] = 15\n",
    "params['B_y'] = 0\n",
    "ks = np.linspace(-1, 1)\n",
    "Es = funcs.bands(lead, params, ks)\n",
    "p1 = hv.Path((ks, Es))[:, -100:100]\n",
    "\n",
    "p1[:, -25:25]# + p1[:, -2:2]"
   ]
  },
  {
   "cell_type": "code",
   "execution_count": null,
   "metadata": {},
   "outputs": [],
   "source": [
    "%%time\n",
    "gap = funcs.find_gap(lead, params)\n",
    "print(f'The bandgap is {gap} meV')"
   ]
  },
  {
   "cell_type": "code",
   "execution_count": null,
   "metadata": {},
   "outputs": [],
   "source": [
    "params = dict(alpha=70, B_x=0, B_y=0, B_z=0, Delta=60, g=50, orbital=True,\n",
    "              mu=15, mu_lead=15, mu_sc=100, c_tunnel=3/4, V=lambda x,y,z:0, V_barrier=50,\n",
    "              **funcs.constants.__dict__)\n",
    "\n",
    "S = kwant.smatrix(syst, params=params)"
   ]
  },
  {
   "cell_type": "code",
   "execution_count": null,
   "metadata": {},
   "outputs": [],
   "source": [
    "funcs.andreev_conductance(syst, params, 0)"
   ]
  },
  {
   "cell_type": "markdown",
   "metadata": {},
   "source": [
    "# Tuning the gap"
   ]
  },
  {
   "cell_type": "code",
   "execution_count": null,
   "metadata": {},
   "outputs": [],
   "source": [
    "params = dict(c_tunnel=3/4, B_x=0, B_y=0, B_z=0, V_barrier=50, g=50,\n",
    "              alpha=70, orbital=True, V='lambda x, y, z: 10 * z / 35', mu_sc=100,\n",
    "              **funcs.constants.__dict__)\n",
    "\n",
    "syst_pars = dict(a=10, angle=0, coverage_angle=135, r1=35, r2=70,\n",
    "                 shape='circle', with_shell=True, A_correction=True,\n",
    "                 rotate_spin_orbit=False)\n",
    "\n",
    "def lowest_energy(x, syst_pars, params):\n",
    "    import funcs\n",
    "    import numpy as np\n",
    "    lead = funcs.make_lead(**syst_pars).finalized()\n",
    "    params['mu_lead'], params['Delta'] = x\n",
    "    # Combine the fixed parameters `params` and the changing\n",
    "    # parameters `val` to one dict and evaluate the string\n",
    "    # lambda functions.\n",
    "    params = funcs.parse_params(params)\n",
    "\n",
    "    # Create the Hamiltonian `ham` at k=0.\n",
    "    h0 = lead.cell_hamiltonian(params=params)\n",
    "    t0 = lead.inter_cell_hopping(params=params)\n",
    "    ham = h0 + t0 + t0.conj().T\n",
    "\n",
    "    # Find the energies.\n",
    "    ev = np.linalg.eigvalsh(ham)\n",
    "    \n",
    "    # Return a combined dictionary with the results and input.\n",
    "    return np.abs(ev).min()\n",
    "\n",
    "def find_crossings(f, g):\n",
    "    return np.argwhere(np.diff(np.sign(f - g)) != 0).reshape(-1)\n",
    "\n",
    "def get_Delta(learner, Delta_ind):\n",
    "    plot = learner.plot(n=1000).redim(x='mu', y='Delta', z='E_gap')\n",
    "    line = plot.reduce(['mu'], np.min)\n",
    "    idx = find_crossings(line.data['E_gap'], Delta_ind)[-1]\n",
    "    Delta = line.data['Delta'][idx]\n",
    "    return Delta"
   ]
  },
  {
   "cell_type": "code",
   "execution_count": null,
   "metadata": {},
   "outputs": [],
   "source": [
    "learner = adaptive.Learner2D(partial(lowest_energy, syst_pars=syst_pars, params=params),\n",
    "                             [(5, 20), (0, 200)], loss)\n",
    "\n",
    "runner = adaptive.Runner(learner, adaptive.Se, goal=lambda l: l.loss() < 0.001)"
   ]
  },
  {
   "cell_type": "code",
   "execution_count": null,
   "metadata": {},
   "outputs": [],
   "source": [
    "runner.task.print_stack()"
   ]
  },
  {
   "cell_type": "code",
   "execution_count": null,
   "metadata": {},
   "outputs": [],
   "source": [
    "%%opts Image [aspect='square']\n",
    "plot = learner.plot().redim(x='mu', y='Delta', z='E_gap')\n",
    "plot"
   ]
  },
  {
   "cell_type": "code",
   "execution_count": null,
   "metadata": {},
   "outputs": [],
   "source": [
    "%%opts Scatter (size=10, color='r')\n",
    "Delta_ind = 0.4\n",
    "\n",
    "line = plot.reduce(['mu'], np.min)\n",
    "line * hv.HLine(0.4) * hv.Scatter((get_Delta(learner, Delta_ind), Delta_ind))"
   ]
  },
  {
   "cell_type": "code",
   "execution_count": null,
   "metadata": {},
   "outputs": [],
   "source": [
    "Deltas = np.arange(*learner.bounds[1])\n",
    "hm = hv.HoloMap({Delta: plot.sample(Delta=Delta)[:, 0:1] for Delta in Deltas})\n",
    "hm * hv.HLine(0.4)"
   ]
  }
 ],
 "metadata": {
  "anaconda-cloud": {},
  "kernelspec": {
   "display_name": "Python 3",
   "language": "python",
   "name": "python3"
  },
  "language_info": {
   "codemirror_mode": {
    "name": "ipython",
    "version": 3
   },
   "file_extension": ".py",
   "mimetype": "text/x-python",
   "name": "python",
   "nbconvert_exporter": "python",
   "pygments_lexer": "ipython3",
   "version": "3.6.3"
  }
 },
 "nbformat": 4,
 "nbformat_minor": 1
}
