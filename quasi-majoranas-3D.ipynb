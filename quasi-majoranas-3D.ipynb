{
 "cells": [
  {
   "cell_type": "markdown",
   "metadata": {},
   "source": [
    "# Quasi Majoranas in 3D\n"
   ]
  },
  {
   "cell_type": "code",
   "execution_count": null,
   "metadata": {},
   "outputs": [],
   "source": [
    "import hpc05\n",
    "\n",
    "client, dview, lview = hpc05.start_remote_and_connect(200, profile='pbs',\n",
    "                                               folder='~/Work/induced_gap_B_field/',\n",
    "                                               timeout=300, del_old_ipcluster=True)\n",
    "\n",
    "# client, dview, lview = hpc05.connect.connect_ipcluster(50, profile='pbs2',\n",
    "#                                                       folder='~/Work/induced_gap_B_field/',\n",
    "#                                                       timeout=300)\n"
   ]
  },
  {
   "cell_type": "code",
   "execution_count": null,
   "metadata": {},
   "outputs": [],
   "source": [
    "# 1. Standard library imports\n",
    "import asyncio\n",
    "from copy import copy\n",
    "from functools import partial\n",
    "from operator import itemgetter\n",
    "\n",
    "# 2. External package imports\n",
    "import holoviews as hv\n",
    "import kwant\n",
    "import matplotlib.pyplot as plt\n",
    "import numpy as np\n",
    "\n",
    "# 3. Internal imports\n",
    "import funcs\n",
    "import common\n",
    "import adaptive_tools\n",
    "\n",
    "# hv.notebook_extension('matplotlib')\n",
    "print(kwant.__version__)\n",
    "\n",
    "import adaptive\n",
    "adaptive.notebook_extension()"
   ]
  },
  {
   "cell_type": "markdown",
   "metadata": {},
   "source": [
    "# Wire with intrinsic SC"
   ]
  },
  {
   "cell_type": "code",
   "execution_count": null,
   "metadata": {},
   "outputs": [],
   "source": [
    "syst_pars = dict(a=10, L=3000, r=35, shape='circle', with_leads=True, L_barrier=0)\n",
    "\n",
    "params = dict(alpha=70, B_x=0.5, B_y=0, B_z=0, Delta=0.25, g=50, \n",
    "              orbital=True, mu_sc=100, mu=10, mu_lead=10, c_tunnel=3/4,\n",
    "              V=lambda *_: 0,\n",
    "              V_barrier=common.gaussian, sigma=500, V_0=25, x0=0, **funcs.constants.__dict__)\n",
    "\n",
    "syst = funcs.make_simple_3d_wire(**syst_pars)\n",
    "\n",
    "kwant.plot(syst);"
   ]
  },
  {
   "cell_type": "markdown",
   "metadata": {},
   "source": [
    "# Wire with external SC"
   ]
  },
  {
   "cell_type": "code",
   "execution_count": null,
   "metadata": {},
   "outputs": [],
   "source": [
    "syst_pars = dict(a=10, angle=0, onsite_disorder=False, L_barrier=0,\n",
    "                 L=3000, coverage_angle=135, r1=35, r2=70, shape='circle',\n",
    "                 with_leads=True, with_shell=True, A_correction=True)\n",
    "\n",
    "params = dict(alpha=70, B_x=0.5, B_y=0, B_z=0, Delta=60, g=50,\n",
    "              orbital=True, mu_sc=100, mu=10, mu_lead=10, c_tunnel=3/4,\n",
    "              V=lambda *_: 0,\n",
    "              V_barrier=common.gaussian, sigma=500, V_0=25, x0=0, **funcs.constants.__dict__)\n",
    "\n",
    "\n",
    "syst = funcs.make_3d_wire(**syst_pars)\n",
    "\n",
    "kwant.plot(syst);"
   ]
  },
  {
   "cell_type": "markdown",
   "metadata": {},
   "source": [
    "# Topological phase diagram"
   ]
  },
  {
   "cell_type": "code",
   "execution_count": null,
   "metadata": {},
   "outputs": [],
   "source": [
    "from functools import partial\n",
    "\n",
    "lead_pars = dict(a=10, angle=0, coverage_angle=135, r1=35, r2=70,\n",
    "                 shape='circle', with_shell=True, A_correction=True,\n",
    "                 rotate_spin_orbit=False)\n",
    "\n",
    "params = dict(alpha=70, B_x=0, B_y=0, B_z=0, Delta=60, g=50, orbital=True,\n",
    "              mu=10, mu_lead=10, mu_sc=100, c_tunnel=3/4, V=lambda *x: 0,\n",
    "              intrinsic_sc=True,\n",
    "              **funcs.constants.__dict__)\n",
    "\n",
    "\n",
    "\n",
    "def fix_params(params, lead_pars):\n",
    "    params = copy(params)\n",
    "    lead_pars = copy(lead_pars)\n",
    "    params['Delta'] = 0.25\n",
    "    lead_pars['r'] = lead_pars['r1']\n",
    "    for k in ['coverage_angle', 'angle', 'r1', 'r2', 'A_correction', 'with_shell']:\n",
    "        lead_pars.pop(k, None)\n",
    "    lead_pars['superconducting'] = True\n",
    "    return params, lead_pars\n",
    "\n",
    "\n",
    "def get_pfaffians(x, keys, val, params=params, lead_pars=lead_pars):\n",
    "    import common\n",
    "    import funcs\n",
    "    import collections\n",
    "    import scipy.sparse.linalg as sla\n",
    "\n",
    "    params = common.parse_params({**params, **val})\n",
    "\n",
    "    if not isinstance(x, collections.Iterable):\n",
    "        x = [x]\n",
    "    for k, v in zip(keys, x):\n",
    "        params[k] = v\n",
    "\n",
    "    if params['intrinsic_sc']:\n",
    "        make_lead = funcs.make_simple_lead\n",
    "        params, lead_pars = fix_params(params, lead_pars)\n",
    "    else:\n",
    "        make_lead = funcs.make_lead\n",
    "\n",
    "    lead = make_lead(**lead_pars).finalized()\n",
    "\n",
    "    return funcs.calculate_pfaffian(lead, params)\n",
    "\n",
    "\n",
    "vals = common.named_product(orbital=[True, False],\n",
    "                            intrinsic_sc=[True, False])\n",
    "\n",
    "learners = []\n",
    "for val in vals:\n",
    "    learner = adaptive_tools.Learner2D(partial(get_pfaffians, val=val, keys=['B_x', 'mu_lead']), ([0, 4], [7, 40]))\n",
    "    learners.append(learner)\n",
    "learner = adaptive_tools.BalancingLearner(learners)"
   ]
  },
  {
   "cell_type": "code",
   "execution_count": null,
   "metadata": {},
   "outputs": [],
   "source": [
    "runner = adaptive.Runner(learner, goal=lambda l: l.loss() < 0.01)\n",
    "runner.live_info()"
   ]
  },
  {
   "cell_type": "code",
   "execution_count": null,
   "metadata": {},
   "outputs": [],
   "source": [
    "[l.loss() for l in learners]"
   ]
  },
  {
   "cell_type": "code",
   "execution_count": null,
   "metadata": {},
   "outputs": [],
   "source": [
    "learner._loss"
   ]
  },
  {
   "cell_type": "code",
   "execution_count": null,
   "metadata": {},
   "outputs": [],
   "source": [
    "runner.task.print_stack()"
   ]
  },
  {
   "cell_type": "code",
   "execution_count": null,
   "metadata": {},
   "outputs": [],
   "source": [
    "runner.task.print_stack(), [l.npoints for l in learners]"
   ]
  },
  {
   "cell_type": "code",
   "execution_count": null,
   "metadata": {},
   "outputs": [],
   "source": [
    "%%output size=120\n",
    "hv.HoloMap(\n",
    "    {tuple(val.values()): l.plot() * hv.HLine(14) for l, val in zip(learners, vals)},\n",
    "    kdims=list(vals[0].keys())).layout().cols(2)"
   ]
  },
  {
   "cell_type": "code",
   "execution_count": null,
   "metadata": {},
   "outputs": [],
   "source": [
    "learner.loss()"
   ]
  },
  {
   "cell_type": "markdown",
   "metadata": {},
   "source": [
    "# Wavefunctions in the lead"
   ]
  },
  {
   "cell_type": "code",
   "execution_count": null,
   "metadata": {},
   "outputs": [],
   "source": [
    "lead = syst.leads[0]\n",
    "funcs.plot_wfs_in_cross_section(lead, params, 0)"
   ]
  },
  {
   "cell_type": "markdown",
   "metadata": {},
   "source": [
    "# Finite sized system spectrum"
   ]
  },
  {
   "cell_type": "code",
   "execution_count": null,
   "metadata": {},
   "outputs": [],
   "source": [
    "%%px --local\n",
    "def fix_simple_params(params, syst_pars):\n",
    "    from copy import copy\n",
    "    params = copy(params)\n",
    "    syst_pars = copy(syst_pars)\n",
    "    params['Delta'] = 0.25\n",
    "    syst_pars['r'] = syst_pars['r1']\n",
    "    for k in ['coverage_angle', 'angle', 'r1', 'r2',\n",
    "              'A_correction', 'with_shell', 'onsite_disorder']:\n",
    "        syst_pars.pop(k, None)\n",
    "    return params, syst_pars"
   ]
  },
  {
   "cell_type": "code",
   "execution_count": null,
   "metadata": {},
   "outputs": [],
   "source": [
    "params = dict(alpha=70, B_x=0, B_y=0, B_z=0, Delta=60, g=50,\n",
    "              orbital=True, mu=14, mu_lead=14, mu_sc=100, c_tunnel=3/4,\n",
    "              V='lambda *_: 0',\n",
    "              V_barrier=common.gaussian, sigma=500, V_0=25, x0=0,\n",
    "              **funcs.constants.__dict__)\n",
    "\n",
    "syst_pars = dict(a=10, angle=0, onsite_disorder=False, L_barrier=0,\n",
    "                 L=3000, coverage_angle=135, r1=35, r2=70, shape='circle',\n",
    "                 with_leads=True, with_shell=True, A_correction=True)\n",
    "\n",
    "\n",
    "def get_energies(x, key, val, params, syst_pars):\n",
    "    import common\n",
    "    import funcs\n",
    "    import scipy.sparse.linalg as sla\n",
    "    params = common.parse_params({**params, **val})\n",
    "\n",
    "    params[key] = x\n",
    "    \n",
    "    if params['intrinsic_sc']:\n",
    "        params, syst_pars = fix_simple_params(params, syst_pars)\n",
    "        syst = funcs.make_simple_3d_wire(**syst_pars)\n",
    "    else:\n",
    "        syst = funcs.make_3d_wire(**syst_pars)\n",
    "\n",
    "    ham = syst.hamiltonian_submatrix(params=params, sparse=True).tocsc()\n",
    "    energies, _ = sla.eigsh(ham, sigma=0, k=30)\n",
    "    return energies\n",
    "\n",
    "\n",
    "vals = common.named_product(orbital=[True, False],\n",
    "                            intrinsic_sc=[True, False])\n",
    "\n",
    "learners = []\n",
    "for val in vals:\n",
    "    f = partial(get_energies, key='B_x', val=val, params=copy(params), syst_pars=copy(syst_pars))\n",
    "    learner = adaptive_tools.Learner1D(f, [0, 4], loss_per_interval)\n",
    "    learner.cdims = val\n",
    "    learners.append(learner)\n",
    "learner = adaptive_tools.BalancingLearner(learners)"
   ]
  },
  {
   "cell_type": "markdown",
   "metadata": {},
   "source": [
    "# Potential shape"
   ]
  },
  {
   "cell_type": "code",
   "execution_count": null,
   "metadata": {},
   "outputs": [],
   "source": [
    "V = lambda x: common.gaussian(x, params['V_0'], syst_pars['L_barrier'], params['sigma'])\n",
    "\n",
    "hv.Curve([(x, V(x)) for x in range(syst_pars['L'] + syst_pars['L_barrier'])], vdims=['V'])"
   ]
  },
  {
   "cell_type": "code",
   "execution_count": null,
   "metadata": {},
   "outputs": [],
   "source": [
    "runner = adaptive.Runner(learner, client)"
   ]
  },
  {
   "cell_type": "code",
   "execution_count": null,
   "metadata": {},
   "outputs": [],
   "source": [
    "[(l.npoints, l.loss()) for l in learners]"
   ]
  },
  {
   "cell_type": "code",
   "execution_count": null,
   "metadata": {},
   "outputs": [],
   "source": [
    "%%output size=120\n",
    "\n",
    "def plot(learner):\n",
    "    Bs = list(learner.data.keys())\n",
    "    es = np.array([e for e in learner.data.values()])\n",
    "    return hv.Overlay([hv.Scatter((Bs, e), kdims=['B_x'], vdims=['E']).opts(style=dict(color='k')) for e in es.T])\n",
    "\n",
    "\n",
    "def plots(learners, vals):\n",
    "    return hv.HoloMap({tuple(val.values()): plot(l)\n",
    "                       for l, val in zip(learners, vals)},\n",
    "                      kdims=list(vals[0].keys()))\n",
    "\n",
    "plots(learners, vals).select(E=(-.5, .5)).layout().cols(2)"
   ]
  },
  {
   "cell_type": "code",
   "execution_count": null,
   "metadata": {},
   "outputs": [],
   "source": [
    "runner.task.print_stack(), learner.loss()"
   ]
  },
  {
   "cell_type": "markdown",
   "metadata": {},
   "source": [
    "# Smallest gap phase diagram\n"
   ]
  },
  {
   "cell_type": "code",
   "execution_count": null,
   "metadata": {},
   "outputs": [],
   "source": [
    "def smallest_gap(x, keys, val, params=params, syst_pars=syst_pars):\n",
    "    import common\n",
    "    import funcs\n",
    "    import numpy as np\n",
    "    import scipy.sparse.linalg as sla\n",
    "\n",
    "    params = common.parse_params({**params, **val})\n",
    "\n",
    "    for _x, key in zip(x, keys):\n",
    "        params[key] = _x\n",
    "\n",
    "    if params['intrinsic_sc']:\n",
    "        params, syst_pars = fix_simple_params(params, syst_pars)\n",
    "        syst = funcs.make_simple_3d_wire(**syst_pars)\n",
    "    else:\n",
    "        syst = funcs.make_3d_wire(**syst_pars)\n",
    "\n",
    "    ham = syst.hamiltonian_submatrix(params=params, sparse=True).tocsc()\n",
    "    evals, _ = sla.eigsh(ham, sigma=0, k=30, which='LM')\n",
    "    return np.abs(evals).min()"
   ]
  },
  {
   "cell_type": "code",
   "execution_count": null,
   "metadata": {},
   "outputs": [],
   "source": [
    "params = dict(alpha=70, B_y=0, B_z=0, Delta=60, g=50,\n",
    "              mu_lead=14, mu_sc=100, c_tunnel=3/4,\n",
    "              V='lambda *_: 0',\n",
    "              V_barrier=common.gaussian, sigma=500, V_0=25, x0=0,\n",
    "              **funcs.constants.__dict__)\n",
    "\n",
    "syst_pars = dict(a=10, angle=0, onsite_disorder=False, L_barrier=0,\n",
    "                 L=3000, coverage_angle=135, r1=35, r2=70, shape='circle',\n",
    "                 with_leads=True, with_shell=True, A_correction=True)\n",
    "\n",
    "vals = common.named_product(intrinsic_sc=[True, False],\n",
    "                            orbital=[True, False])\n",
    "\n",
    "learners = []\n",
    "for val in vals:\n",
    "    f = partial(smallest_gap, keys=['B_x', 'mu'],\n",
    "                val=val,\n",
    "                params=copy(params),\n",
    "                syst_pars=copy(syst_pars))\n",
    "    learner = adaptive_tools.Learner2D(f, ([0, 4], [7, 20]))\n",
    "    learners.append(learner)\n",
    "learner = adaptive_tools.BalancingLearner(learners)\n",
    "common.load_BalancingLearner_data(learners, 'quasi')"
   ]
  },
  {
   "cell_type": "code",
   "execution_count": null,
   "metadata": {},
   "outputs": [],
   "source": [
    "runner = adaptive.Runner(learner, client)"
   ]
  },
  {
   "cell_type": "code",
   "execution_count": null,
   "metadata": {},
   "outputs": [],
   "source": [
    "runner.task.print_stack()"
   ]
  },
  {
   "cell_type": "code",
   "execution_count": null,
   "metadata": {},
   "outputs": [],
   "source": [
    "common.save_BalancingLearner_data(learners, 'quasi')"
   ]
  },
  {
   "cell_type": "code",
   "execution_count": null,
   "metadata": {},
   "outputs": [],
   "source": [
    "[l.n for l in learners]"
   ]
  },
  {
   "cell_type": "code",
   "execution_count": null,
   "metadata": {},
   "outputs": [],
   "source": [
    "def plots(learners, vals, zlims):\n",
    "    def plot(l):\n",
    "        im = l.plot(tri_alpha=0)\n",
    "        im.data = np.log10(np.clip(im.data, *zlims))\n",
    "        return im\n",
    "    return hv.HoloMap({tuple(val.values()): plot(l).redim(x='B_x', y='mu')\n",
    "                       for l, val in zip(learners, vals)},\n",
    "                      kdims=list(vals[0].keys()))"
   ]
  },
  {
   "cell_type": "code",
   "execution_count": null,
   "metadata": {},
   "outputs": [],
   "source": [
    "%%output size=100\n",
    "%%opts Image [colorbar=True] \n",
    "plots(learners, vals, zlims=(0.01, 1)).layout().cols(2)"
   ]
  },
  {
   "cell_type": "code",
   "execution_count": null,
   "metadata": {},
   "outputs": [],
   "source": [
    "from matplotlib.colors import LogNorm\n",
    "import matplotlib.pyplot as plt\n",
    "def plot(learner):\n",
    "    ((Ez_min, Ez_max), (mu_min, mu_max)) = learner.bounds\n",
    "\n",
    "    Ez_min, Ez_max = [Ez * params['mu_B'] * params['g'] / 2 for Ez in [Ez_min, Ez_max]]\n",
    "\n",
    "    fig = plt.figure(figsize=(12, 5))\n",
    "    ax = fig.add_subplot(1, 1, 1)\n",
    "    z = np.rot90(learner.plot().data, 3)\n",
    "    z[z == 0.0] = 1e-5 # Replace zeros as they cannot be plotted in a log plot\n",
    "    plt.imshow(z.T[::-1], extent=[Ez_min, Ez_max, mu_min, mu_max], aspect='auto', \n",
    "               norm=LogNorm(vmin=0.01, vmax=1), interpolation='nearest')\n",
    "    ax.set_xlim(Ez_min, Ez_max)\n",
    "    plt.colorbar().set_label(label=r'$E$ (meV)',size=20)\n",
    "    ax.tick_params(labelsize=20)\n",
    "    ax.set_xlabel(r'$E_{\\mathrm{Z}}$ (meV)', fontsize=15)\n",
    "    ax.set_ylabel(r'$\\mu$ (meV)', fontsize=20)\n",
    "    return fig, ax\n",
    "\n",
    "i = 0\n",
    "fig, ax = plot(learners[i])\n",
    "ax.set_title(vals[i])\n",
    "plt.show()"
   ]
  },
  {
   "cell_type": "markdown",
   "metadata": {},
   "source": [
    "# Conductance"
   ]
  },
  {
   "cell_type": "code",
   "execution_count": null,
   "metadata": {},
   "outputs": [],
   "source": [
    "params['V_0']"
   ]
  },
  {
   "cell_type": "code",
   "execution_count": null,
   "metadata": {},
   "outputs": [],
   "source": [
    "params['mu_lead']"
   ]
  },
  {
   "cell_type": "code",
   "execution_count": null,
   "metadata": {},
   "outputs": [],
   "source": [
    "syst_pars['L_barrier'] = 1000\n",
    "params['sigma'] = 200\n",
    "\n",
    "V = lambda x: (0\n",
    "#     common.gaussian(x, params['V_0'], syst_pars['L_barrier'], params['sigma']) \n",
    "               + params['mu_lead'] * (2 + np.tanh((x - syst_pars['L_barrier']) / params['sigma'])))\n",
    "\n",
    "# V = lambda x: (params['V_0'] * np.tanh((x - syst_pars['L_barrier']) / params['sigma']))\n",
    "\n",
    "hv.Curve([(x, V(x)) for x in range(syst_pars['L'] + syst_pars['L_barrier'])], vdims=['V'])"
   ]
  },
  {
   "cell_type": "code",
   "execution_count": null,
   "metadata": {},
   "outputs": [],
   "source": [
    "def conductance(x, val, syst_pars, params):\n",
    "    import funcs\n",
    "\n",
    "    assert syst_pars['L_barrier'] != 0, \"Need a finite length barrier!\"\n",
    "\n",
    "    for k in ['angle']:\n",
    "        try:\n",
    "            syst_pars[k] = val[k]\n",
    "        except KeyError:\n",
    "            pass\n",
    "\n",
    "    params = funcs.parse_params(dict(**params, **val))\n",
    "    \n",
    "    params['mu_lead'] = params['mu']\n",
    "    params['B_x'], params['B_y'], params['B_z'] = (0, 0, 0)\n",
    "    val['V_bias'], params['B_{}'.format(val['direction'])] = x\n",
    "\n",
    "    if params['intrinsic_sc']:\n",
    "        params, syst_pars = fix_simple_params(params, syst_pars)\n",
    "        syst = funcs.make_simple_3d_wire(**syst_pars)\n",
    "    else:\n",
    "        syst = funcs.make_3d_wire(**syst_pars)\n",
    "    return funcs.conductance(syst, params, E=val['V_bias'])"
   ]
  },
  {
   "cell_type": "code",
   "execution_count": null,
   "metadata": {},
   "outputs": [],
   "source": []
  },
  {
   "cell_type": "code",
   "execution_count": null,
   "metadata": {},
   "outputs": [],
   "source": []
  },
  {
   "cell_type": "code",
   "execution_count": null,
   "metadata": {},
   "outputs": [],
   "source": []
  },
  {
   "cell_type": "code",
   "execution_count": null,
   "metadata": {},
   "outputs": [],
   "source": []
  },
  {
   "cell_type": "code",
   "execution_count": null,
   "metadata": {},
   "outputs": [],
   "source": []
  },
  {
   "cell_type": "code",
   "execution_count": null,
   "metadata": {},
   "outputs": [],
   "source": []
  },
  {
   "cell_type": "code",
   "execution_count": null,
   "metadata": {},
   "outputs": [],
   "source": []
  },
  {
   "cell_type": "code",
   "execution_count": null,
   "metadata": {},
   "outputs": [],
   "source": []
  },
  {
   "cell_type": "code",
   "execution_count": null,
   "metadata": {},
   "outputs": [],
   "source": []
  },
  {
   "cell_type": "code",
   "execution_count": null,
   "metadata": {},
   "outputs": [],
   "source": []
  },
  {
   "cell_type": "code",
   "execution_count": null,
   "metadata": {},
   "outputs": [],
   "source": []
  },
  {
   "cell_type": "code",
   "execution_count": null,
   "metadata": {},
   "outputs": [],
   "source": []
  },
  {
   "cell_type": "markdown",
   "metadata": {},
   "source": [
    "# Random crap"
   ]
  },
  {
   "cell_type": "code",
   "execution_count": null,
   "metadata": {},
   "outputs": [],
   "source": [
    "# %%opts Path [aspect='square']\n",
    "params = dict(c_tunnel=3/4, B_x=0.5, B_y=0, B_z=0, V_barrier=40, g=50, mu_sc=100,\n",
    "              alpha=70, orbital=False, V=lambda x, y, z: 10 * z / 35, Delta=60,\n",
    "              **funcs.constants.__dict__)\n",
    "\n",
    "lead_pars = dict(a=10, angle=0,\n",
    "                 coverage_angle=135, r1=35, r2=70, shape='circle',\n",
    "                 with_shell=True, A_correction=True)\n",
    "\n",
    "lead = funcs.make_lead(**lead_pars).finalized()\n",
    "params['mu_lead'] = params['mu_sc'] = 15\n",
    "params['B_y'] = 0\n",
    "ks = np.linspace(-1, 1)\n",
    "Es = funcs.bands(lead, params, ks)\n",
    "p1 = hv.Path((ks, Es))[:, -100:100]\n",
    "\n",
    "p1[:, -25:25]# + p1[:, -2:2]"
   ]
  },
  {
   "cell_type": "code",
   "execution_count": null,
   "metadata": {},
   "outputs": [],
   "source": [
    "%%time\n",
    "gap = funcs.find_gap(lead, params)\n",
    "print(f'The bandgap is {gap} meV')"
   ]
  },
  {
   "cell_type": "code",
   "execution_count": null,
   "metadata": {},
   "outputs": [],
   "source": [
    "params = dict(alpha=70, B_x=0, B_y=0, B_z=0, Delta=60, g=50, orbital=True,\n",
    "              mu=15, mu_lead=15, mu_sc=100, c_tunnel=3/4, V=lambda x,y,z:0, V_barrier=50,\n",
    "              **funcs.constants.__dict__)\n",
    "\n",
    "S = kwant.smatrix(syst, params=params)"
   ]
  },
  {
   "cell_type": "code",
   "execution_count": null,
   "metadata": {},
   "outputs": [],
   "source": [
    "funcs.andreev_conductance(syst, params, 0)"
   ]
  },
  {
   "cell_type": "markdown",
   "metadata": {},
   "source": [
    "# Tuning the gap"
   ]
  },
  {
   "cell_type": "code",
   "execution_count": null,
   "metadata": {},
   "outputs": [],
   "source": [
    "params = dict(c_tunnel=3/4, B_x=0, B_y=0, B_z=0, V_barrier=50, g=50,\n",
    "              alpha=70, orbital=True, V='lambda x, y, z: 10 * z / 35', mu_sc=100,\n",
    "              **funcs.constants.__dict__)\n",
    "\n",
    "syst_pars = dict(a=10, angle=0, coverage_angle=135, r1=35, r2=70,\n",
    "                 shape='circle', with_shell=True, A_correction=True)\n",
    "\n",
    "def lowest_energy(x, syst_pars, params):\n",
    "    import funcs\n",
    "    import numpy as np\n",
    "    lead = funcs.make_lead(**syst_pars).finalized()\n",
    "    params['mu_lead'], params['Delta'] = x\n",
    "    # Combine the fixed parameters `params` and the changing\n",
    "    # parameters `val` to one dict and evaluate the string\n",
    "    # lambda functions.\n",
    "    params = funcs.parse_params(params)\n",
    "\n",
    "    # Create the Hamiltonian `ham` at k=0.\n",
    "    h0 = lead.cell_hamiltonian(params=params)\n",
    "    t0 = lead.inter_cell_hopping(params=params)\n",
    "    ham = h0 + t0 + t0.conj().T\n",
    "\n",
    "    # Find the energies.\n",
    "    ev = np.linalg.eigvalsh(ham)\n",
    "    \n",
    "    # Return a combined dictionary with the results and input.\n",
    "    return np.abs(ev).min()\n",
    "\n",
    "def find_crossings(f, g):\n",
    "    return np.argwhere(np.diff(np.sign(f - g)) != 0).reshape(-1)\n",
    "\n",
    "def get_Delta(learner, Delta_ind):\n",
    "    plot = learner.plot(n=1000).redim(x='mu', y='Delta', z='E_gap')\n",
    "    line = plot.reduce(['mu'], np.min)\n",
    "    idx = find_crossings(line.data['E_gap'], Delta_ind)[-1]\n",
    "    Delta = line.data['Delta'][idx]\n",
    "    return Delta"
   ]
  },
  {
   "cell_type": "code",
   "execution_count": null,
   "metadata": {},
   "outputs": [],
   "source": [
    "learner = adaptive_tools.Learner2D(partial(lowest_energy, syst_pars=syst_pars, params=params),\n",
    "                             [(5, 20), (0, 200)])\n",
    "\n",
    "runner = adaptive.Runner(learner, adaptive.Se, goal=lambda l: l.loss() < 0.001)"
   ]
  },
  {
   "cell_type": "code",
   "execution_count": null,
   "metadata": {},
   "outputs": [],
   "source": [
    "runner.task.print_stack()"
   ]
  },
  {
   "cell_type": "code",
   "execution_count": null,
   "metadata": {},
   "outputs": [],
   "source": [
    "%%opts Image [aspect='square']\n",
    "plot = learner.plot().redim(x='mu', y='Delta', z='E_gap')\n",
    "plot"
   ]
  },
  {
   "cell_type": "code",
   "execution_count": null,
   "metadata": {},
   "outputs": [],
   "source": [
    "%%opts Scatter (size=10, color='r')\n",
    "Delta_ind = 0.4\n",
    "\n",
    "line = plot.reduce(['mu'], np.min)\n",
    "line * hv.HLine(0.4) * hv.Scatter((get_Delta(learner, Delta_ind), Delta_ind))"
   ]
  },
  {
   "cell_type": "code",
   "execution_count": null,
   "metadata": {},
   "outputs": [],
   "source": [
    "Deltas = np.arange(*learner.bounds[1])\n",
    "hm = hv.HoloMap({Delta: plot.sample(Delta=Delta)[:, 0:1] for Delta in Deltas})\n",
    "hm * hv.HLine(0.4)"
   ]
  }
 ],
 "metadata": {
  "anaconda-cloud": {},
  "kernelspec": {
   "display_name": "Python 3",
   "language": "python",
   "name": "python3"
  },
  "language_info": {
   "codemirror_mode": {
    "name": "ipython",
    "version": 3
   },
   "file_extension": ".py",
   "mimetype": "text/x-python",
   "name": "python",
   "nbconvert_exporter": "python",
   "pygments_lexer": "ipython3",
   "version": "3.6.3"
  }
 },
 "nbformat": 4,
 "nbformat_minor": 1
}
